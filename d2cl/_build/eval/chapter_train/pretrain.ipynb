{
 "cells": [
  {
   "cell_type": "markdown",
   "metadata": {},
   "source": [
    "# Pretrain\n",
    "\n",
    "https://github.com/topics/pretrained-language-model\n",
    "https://github.com/Separius/awesome-sentence-embedding"
   ]
  }
 ],
 "metadata": {
  "language_info": {
   "name": "python"
  }
 },
 "nbformat": 4,
 "nbformat_minor": 4
}