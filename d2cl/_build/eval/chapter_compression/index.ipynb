{
 "cells": [
  {
   "cell_type": "markdown",
   "id": "fantastic-chosen",
   "metadata": {},
   "source": [
    "# Compression\n",
    ":label:`chap_compression`"
   ]
  },
  {
   "cell_type": "markdown",
   "id": "powered-finnish",
   "metadata": {},
   "source": [
    "```toc\n",
    ":maxdepth: 2\n",
    "\n",
    "compression\n",
    "pruning\n",
    "Knowledge-Distillation\n",
    "quantization\n",
    "mix\n",
    "```\n"
   ]
  }
 ],
 "metadata": {
  "language_info": {
   "name": "python"
  }
 },
 "nbformat": 4,
 "nbformat_minor": 5
}