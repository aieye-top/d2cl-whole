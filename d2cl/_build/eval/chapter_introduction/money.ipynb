{
 "cells": [
  {
   "cell_type": "markdown",
   "metadata": {},
   "source": [
    "# money\n",
    "\n",
    "动辄几个亿的模型，普通人无力支持训练和运行大模型，怎么办？\n",
    "\n",
    "## 用预训练的小模型\n",
    "\n",
    "网络模型压缩[1]\n",
    "\n",
    "\n",
    "[1]: https://www.kancloud.cn/smartadpole/dl/662452"
   ]
  }
 ],
 "metadata": {
  "language_info": {
   "name": "python"
  }
 },
 "nbformat": 4,
 "nbformat_minor": 4
}