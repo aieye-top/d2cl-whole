{
 "cells": [
  {
   "cell_type": "markdown",
   "metadata": {},
   "source": [
    "# time\n",
    "\n",
    "人最多只有3万多天，该怎么活？\n",
    "\n",
    "## 训练规模\n",
    "\n",
    "参数规模甚至到数十亿量级的全连接层参数规模的问题,人们转而考虑增加卷积层,使全连参数降低。随之带来的负面影响便增长了计算时间与能耗。[1]\n",
    "\n",
    "## 实现\n",
    "\n",
    "实现过程中,有很无法直接实现,或者有找到简便的方法,不得不绕了个弯子,确实\n",
    "\n",
    "\n",
    "\n",
    "[1]: https://www.paperweekly.site/papers/notes/371"
   ]
  }
 ],
 "metadata": {
  "language_info": {
   "name": "python"
  }
 },
 "nbformat": 4,
 "nbformat_minor": 4
}