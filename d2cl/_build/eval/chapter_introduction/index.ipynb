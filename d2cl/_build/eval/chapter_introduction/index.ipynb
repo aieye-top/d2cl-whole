{
 "cells": [
  {
   "cell_type": "markdown",
   "metadata": {},
   "source": [
    "# Introduction\n",
    ":label:`chap_introduction`"
   ]
  }
 ],
 "metadata": {
  "language_info": {
   "name": "python"
  }
 },
 "nbformat": 4,
 "nbformat_minor": 4
}