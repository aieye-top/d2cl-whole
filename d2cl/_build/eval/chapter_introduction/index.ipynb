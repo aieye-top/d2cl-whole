{
 "cells": [
  {
   "cell_type": "markdown",
   "id": "accredited-lodge",
   "metadata": {},
   "source": [
    "# Introduction\n",
    ":label:`chap_introduction`"
   ]
  },
  {
   "cell_type": "markdown",
   "id": "loving-pastor",
   "metadata": {},
   "source": [
    "```toc\n",
    ":maxdepth: 2\n",
    "\n",
    "time\n",
    "technology\n",
    "privacy\n",
    "money\n",
    "data\n",
    "```\n"
   ]
  }
 ],
 "metadata": {
  "language_info": {
   "name": "python"
  }
 },
 "nbformat": 4,
 "nbformat_minor": 5
}