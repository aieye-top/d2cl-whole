{
 "cells": [
  {
   "cell_type": "markdown",
   "id": "smaller-justice",
   "metadata": {},
   "source": [
    "# GhostNet\n",
    "\n",
    "GhostNet: More Features from Cheap Operations\n",
    "\n",
    "30:00[1]\n",
    "\n",
    "https://github.com/huawei-noah/ghostnet\n",
    "\n",
    "https://www.infoq.cn/article/CEA4ByG6XykGlDeT6bVo\n",
    "\n",
    "[1]：https://www.bilibili.com/video/BV1Yt4y197Sd?from=search&seid=16685409903707063286"
   ]
  }
 ],
 "metadata": {
  "language_info": {
   "name": "python"
  }
 },
 "nbformat": 4,
 "nbformat_minor": 5
}