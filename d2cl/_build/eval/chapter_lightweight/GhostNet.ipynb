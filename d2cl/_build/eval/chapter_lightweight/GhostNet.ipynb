{
 "cells": [
  {
   "cell_type": "markdown",
   "metadata": {},
   "source": [
    "# GhostNet\n",
    "\n",
    "GhostNet: More Features from Cheap Operations\n",
    "\n",
    "30:00[1]\n",
    "\n",
    "https://github.com/huawei-noah/ghostnet\n",
    "\n",
    "[1]：https://www.bilibili.com/video/BV1Yt4y197Sd?from=search&seid=16685409903707063286"
   ]
  }
 ],
 "metadata": {
  "language_info": {
   "name": "python"
  }
 },
 "nbformat": 4,
 "nbformat_minor": 4
}