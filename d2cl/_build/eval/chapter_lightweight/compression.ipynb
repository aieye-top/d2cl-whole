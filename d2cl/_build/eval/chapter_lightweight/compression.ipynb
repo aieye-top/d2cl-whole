{
 "cells": [
  {
   "cell_type": "markdown",
   "metadata": {},
   "source": [
    "## 针对生成模型的协同进化压缩算法(ICCV2019)\n",
    "\n",
    "在CycleGAN中的两个生成器网络将会被同时压缩：\n",
    "$$\n",
    "\\begin{aligned}\n",
    "\\hat{G}_{1}, \\hat{G}_{2} &=\\arg \\min _{G_{1}, G_{2}} \\mathcal{N}\\left(G_{1}\\right)+\\mathcal{N}\\left(G_{2}\\right) \\\\\n",
    "&+\\gamma\\left(\\mathcal{L}_{\\text {DisA}}\\left(G_{1}, D_{1}\\right)+\\lambda \\mathcal{L}_{\\text {cyc }}\\left(G_{1}, G_{2}, X\\right)\\right) \\\\\n",
    "\\quad+& \\gamma\\left(\\mathcal{L}_{\\text {DisA }}\\left(G_{2}, D_{2}\\right)+\\lambda \\mathcal{L}_{\\text {cyc }}\\left(G_{2}, G_{1}, Y\\right)\\right)\n",
    "\\end{aligned}\n",
    "$$"
   ]
  }
 ],
 "metadata": {
  "language_info": {
   "name": "python"
  }
 },
 "nbformat": 4,
 "nbformat_minor": 4
}