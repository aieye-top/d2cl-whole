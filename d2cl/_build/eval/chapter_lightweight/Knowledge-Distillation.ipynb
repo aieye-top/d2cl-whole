{
 "cells": [
  {
   "cell_type": "markdown",
   "metadata": {},
   "source": [
    "https://github.com/FLHonker/Awesome-Knowledge-Distillation\n",
    "\n",
    "https://github.com/peterliht/knowledge-distillation-pytorch"
   ]
  }
 ],
 "metadata": {
  "language_info": {
   "name": "python"
  }
 },
 "nbformat": 4,
 "nbformat_minor": 4
}