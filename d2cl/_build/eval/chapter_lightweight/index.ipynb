{
 "cells": [
  {
   "cell_type": "markdown",
   "id": "naked-worship",
   "metadata": {},
   "source": [
    "# Lightweight\n",
    ":label:`chap_lightweight`"
   ]
  },
  {
   "cell_type": "markdown",
   "id": "facial-conflict",
   "metadata": {},
   "source": [
    "```toc\n",
    ":maxdepth: 2\n",
    "\n",
    "lightweight\n",
    "squeezenet\n",
    "mobilenet\n",
    "mobilenet_v2\n",
    "shufflenet\n",
    "GhostNet\n",
    "```\n"
   ]
  }
 ],
 "metadata": {
  "language_info": {
   "name": "python"
  }
 },
 "nbformat": 4,
 "nbformat_minor": 5
}