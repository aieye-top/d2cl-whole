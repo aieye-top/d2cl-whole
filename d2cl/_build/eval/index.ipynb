{
 "cells": [
  {
   "cell_type": "markdown",
   "metadata": {},
   "source": [
    "# Deploying Demo for d2cl\n",
    "\n",
    "This is a demo to deploy on Github."
   ]
  },
  {
   "cell_type": "markdown",
   "metadata": {},
   "source": [
    "````toc\n",
    ":maxdepth: 1\n",
    "\n",
    "get_started\n",
    "````\n"
   ]
  },
  {
   "cell_type": "markdown",
   "metadata": {},
   "source": [
    "```toc\n",
    ":maxdepth: 2\n",
    ":numbered:\n",
    "\n",
    "chapter_introduction/index\n",
    "chapter_write_code/index\n",
    "chapter_lightweight/index\n",
    "chapter_train/index\n",
    "\n",
    "```\n"
   ]
  }
 ],
 "metadata": {
  "language_info": {
   "name": "python"
  }
 },
 "nbformat": 4,
 "nbformat_minor": 4
}