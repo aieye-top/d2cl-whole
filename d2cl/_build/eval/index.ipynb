{
 "cells": [
  {
   "cell_type": "markdown",
   "id": "architectural-disease",
   "metadata": {},
   "source": [
    "# Dive into cheap deep learning\n",
    "\n",
    "Dive into cheap deep learning.\n",
    "\n",
    "专注于让深度学习更划算更便宜！\n",
    "\n",
    "From your IQ, your devices, and your resource.\n",
    "\n",
    "从学习智力上、装备上、资源上。\n",
    "\n",
    "AI PM 2020年应届生失业一年求职。。"
   ]
  },
  {
   "cell_type": "markdown",
   "id": "according-morris",
   "metadata": {},
   "source": [
    "````toc\n",
    ":maxdepth: 1\n",
    "\n",
    "get_started\n",
    "````\n"
   ]
  },
  {
   "cell_type": "markdown",
   "id": "recreational-effect",
   "metadata": {},
   "source": [
    "```toc\n",
    ":maxdepth: 2\n",
    ":numbered:\n",
    "\n",
    "chapter_introduction/index\n",
    "chapter_lightweight/index\n",
    "chapter_compression/index\n",
    "chapter_write_code/index\n",
    "chapter_train/index\n",
    "chapter_deploy/index\n",
    "\n",
    "```\n"
   ]
  }
 ],
 "metadata": {
  "language_info": {
   "name": "python"
  }
 },
 "nbformat": 4,
 "nbformat_minor": 5
}