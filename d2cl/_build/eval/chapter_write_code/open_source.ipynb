{
 "cells": [
  {
   "cell_type": "markdown",
   "id": "welsh-street",
   "metadata": {},
   "source": [
    "# 开源\n",
    "\n",
    "感谢伟大的开源时代，使得创造的项目，积累的经验，总结的教训，被“整理、封装、模块化”。[1]\n",
    "\n",
    "## 时间\n",
    "\n",
    "时间就是一种资源。事实上，这是你拥有的最有价值的资源之一[2]\n",
    "\n",
    "## 代码\n",
    "\n",
    "https://choosealicense.com/licenses\n",
    "\n",
    "对于所有的开源项目来说，指定许可协议应该是强制性的。如果你想要参与或使用开源项目，应该注意与所选许可相关的隐式限制。[2]\n",
    "\n",
    "## 项目搜索\n",
    "\n",
    "项目搜索\n",
    "http://www.lib4dev.in/\n",
    "\n",
    "## 协作\n",
    "\n",
    "开源是一个更大的推动作用，因为（要想成功），你必须假定人们不仅不在同一个房间，甚至不在同一个大陆。[4]\n",
    "\n",
    "## 赚钱\n",
    "\n",
    "你需要首先创造一些有用的东西，然后找到赚钱的方法。你将从开源代码中获取多得多的反馈——这种方法对开发人员更友好。你做的东西越来越好用，也就会越来越流行和壮大。所以为社区构建开源产品要容易很多。[3]\n",
    "\n",
    "如果你不想让别人用你的代码赚钱，就用AGPL协议，这样只要别人用了你的代码，你就可以要求他开源他的代码。如果你想要求别人用了你的代码就必须要提到你的贡献，那就在Apache2.0协议的基础上加一个NOTICE文件。[7]\n",
    "\n",
    "## 学术VS工业\n",
    "\n",
    "学术界和工业界已开源工具的区别，王斌博士表示，小米 MiNLP 在设计时充分借鉴了已有工具的一些思想和理念，并根据小米的实际经验进行了区别性设计，有自己的一些特点。比如，工业界最有力的干预机制，小米事先在设计时靠考虑到框架的灵活性，不用重新训练模型，就能方便地支持有效的干预机制。这样，用户就可以很灵活地将自己的东西放上去，并在短时间内获得一个更符合线上需求的版本。\n",
    "\n",
    "[1]: https://www.infoq.cn/article/64oST9kFVL1XTLkeqelN\n",
    "[2]: https://www.infoq.cn/article/eBDu8ai1uDAUYcoH03Uv\n",
    "[3]: https://www.infoq.cn/article/atDsPIXfT6a3zWrzad1v\n",
    "[4]: https://www.infoq.cn/article/LEzMN1NE5NNBsFvfyYgv\n",
    "[5]: https://www.infoq.cn/article/ddQcZowBbRhikNrULXaC\n",
    "[6]: 因为这个工具，我在 GitHub 搜索源码的时间缩短了 50%！ - 红色石头的文章 - 知乎 https://zhuanlan.zhihu.com/p/109739958\n",
    "[7]: 人民日益增长的知识产权意识和落后的维权水平之间的矛盾 - 谢流远的文章 - 知乎 https://zhuanlan.zhihu.com/p/45850094"
   ]
  }
 ],
 "metadata": {
  "language_info": {
   "name": "python"
  }
 },
 "nbformat": 4,
 "nbformat_minor": 5
}