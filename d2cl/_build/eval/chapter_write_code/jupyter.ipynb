{
 "cells": [
  {
   "cell_type": "markdown",
   "metadata": {},
   "source": [
    "# Jupyter\n",
    "\n",
    "\n",
    "在AI服务器部署VS Code Online版\n",
    "https://zhuanlan.zhihu.com/p/127419401"
   ]
  }
 ],
 "metadata": {
  "language_info": {
   "name": "python"
  }
 },
 "nbformat": 4,
 "nbformat_minor": 4
}