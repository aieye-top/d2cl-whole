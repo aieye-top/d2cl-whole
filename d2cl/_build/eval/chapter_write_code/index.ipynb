{
 "cells": [
  {
   "cell_type": "markdown",
   "id": "posted-constraint",
   "metadata": {},
   "source": [
    "# Write code\n",
    ":label:`chap_write_code`"
   ]
  },
  {
   "cell_type": "markdown",
   "id": "expensive-bible",
   "metadata": {},
   "source": [
    "```toc\n",
    ":maxdepth: 2\n",
    "\n",
    "jupyter\n",
    "API\n",
    "Research\n",
    "\n",
    "```\n"
   ]
  }
 ],
 "metadata": {
  "language_info": {
   "name": "python"
  }
 },
 "nbformat": 4,
 "nbformat_minor": 5
}