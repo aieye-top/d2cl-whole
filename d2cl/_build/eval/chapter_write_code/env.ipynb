{
 "cells": [
  {
   "cell_type": "markdown",
   "id": "martial-membership",
   "metadata": {},
   "source": [
    "# Environment\n",
    "\n",
    "## 第三方依赖\n",
    "\n",
    "Docker，一，Docker容器上的程序，直接使用物理机的硬件资源，cpu、内存等利用率上有很大的优势。二，Docker镜像方便传播，使用别人的环境，找到提供好的Docker文件自动配置就行了。\n",
    "\n",
    "官网地址如下：\n",
    "\n",
    "https://docs.docker.com/install/linux/docker-ce/ubuntu/\n",
    "\n",
    "要使用显卡，必须安装NVIDIA Docker。\n",
    "\n",
    "Build GPU image (with nvidia-docker):[2]\n",
    "\n",
    "make docker-gpu\n",
    "\n",
    "在AI服务器部署VS Code Online版\n",
    "https://zhuanlan.zhihu.com/p/127419401\n",
    "\n",
    "使用vscode进行远程炼丹 - 希葛格的韩少君的文章 - 知乎\n",
    "https://zhuanlan.zhihu.com/p/89662757\n",
    "\n",
    "[1]: https://cloud.tencent.com/developer/article/1471594\n",
    "[2]: https://stable-baselines.readthedocs.io/en/master/guide/install.html#openmpi"
   ]
  }
 ],
 "metadata": {
  "language_info": {
   "name": "python"
  }
 },
 "nbformat": 4,
 "nbformat_minor": 5
}