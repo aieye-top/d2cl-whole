{
 "cells": [
  {
   "cell_type": "markdown",
   "id": "exciting-desperate",
   "metadata": {},
   "source": [
    "# 芯片\n",
    "\n",
    "移动硬件上跑深度学习，于是 MIT 的 Viviene Sze 发表了第一款深度学习加速芯片 Eyeriss.\n",
    "\n",
    "\n",
    "\n",
    "[1]: https://mp.weixin.qq.com/s/lO2UM04PfSM5VJYh6vINhw"
   ]
  }
 ],
 "metadata": {
  "language_info": {
   "name": "python"
  }
 },
 "nbformat": 4,
 "nbformat_minor": 5
}