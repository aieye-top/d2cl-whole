{
 "cells": [
  {
   "cell_type": "markdown",
   "id": "respiratory-estate",
   "metadata": {},
   "source": [
    "# Deployment\n",
    ":label:`chap_deploy`"
   ]
  },
  {
   "cell_type": "markdown",
   "id": "attempted-evanescence",
   "metadata": {},
   "source": [
    "```toc\n",
    ":maxdepth: 2\n",
    "\n",
    "hardware\n",
    "edge\n",
    "mobile\n",
    "MCU\n",
    "AI-zhongtai\n",
    "```\n"
   ]
  }
 ],
 "metadata": {
  "language_info": {
   "name": "python"
  }
 },
 "nbformat": 4,
 "nbformat_minor": 5
}