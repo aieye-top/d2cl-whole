{
 "cells": [
  {
   "cell_type": "markdown",
   "id": "insured-spain",
   "metadata": {},
   "source": [
    "# 模型转化\n",
    "\n",
    "TF2ONNX[1]\n",
    "\n",
    "PyTorch2TF[2]\n",
    "PyTorch2TFLite[3]\n",
    "\n",
    "[1]: https://jackwish.net/2020/Convert-TensorFlow-Lite-models-to-ONNX-chn.html\n",
    "[2]: https://github.com/onnx/tutorials/blob/master/tutorials/PytorchTensorflowMnist.ipynb\n",
    "[3]: https://www.infoq.cn/article/ACQFj4IqyKL48NEXoeox"
   ]
  }
 ],
 "metadata": {
  "language_info": {
   "name": "python"
  }
 },
 "nbformat": 4,
 "nbformat_minor": 5
}