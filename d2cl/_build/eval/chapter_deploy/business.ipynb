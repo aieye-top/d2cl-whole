{
 "cells": [
  {
   "cell_type": "markdown",
   "id": "starting-lebanon",
   "metadata": {},
   "source": [
    "# 商业化\n",
    "\n",
    "归根结底，我们最关心的是确保人工通用智能惠及所有人。我们认为开发商业产品是确保我们有足够资金取得成功的途径之一。[1]\n",
    "\n",
    "\n",
    "\n",
    "[1]: https://xie.infoq.cn/article/c79976ff92424258e20dc0208"
   ]
  }
 ],
 "metadata": {
  "language_info": {
   "name": "python"
  }
 },
 "nbformat": 4,
 "nbformat_minor": 5
}