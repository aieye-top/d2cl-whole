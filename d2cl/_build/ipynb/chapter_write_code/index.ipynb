{
 "cells": [
  {
   "cell_type": "markdown",
   "id": "posted-constraint",
   "metadata": {},
   "source": [
    "# Write code\n",
    ":label:`chap_write_code`"
   ]
  },
  {
   "cell_type": "markdown",
   "id": "expensive-bible",
   "metadata": {},
   "source": [
    ":begin_tab:toc\n",
    " - [jupyter](jupyter.ipynb)\n",
    " - [API](API.ipynb)\n",
    " - [Research](Research.ipynb)\n",
    ":end_tab:\n"
   ]
  }
 ],
 "metadata": {
  "language_info": {
   "name": "python"
  }
 },
 "nbformat": 4,
 "nbformat_minor": 5
}