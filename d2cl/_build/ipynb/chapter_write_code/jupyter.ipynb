{
 "cells": [
  {
   "cell_type": "markdown",
   "id": "recognized-moore",
   "metadata": {},
   "source": [
    "# Jupyter\n",
    "\n",
    "\n",
    "在AI服务器部署VS Code Online版\n",
    "https://zhuanlan.zhihu.com/p/127419401"
   ]
  }
 ],
 "metadata": {
  "language_info": {
   "name": "python"
  }
 },
 "nbformat": 4,
 "nbformat_minor": 5
}