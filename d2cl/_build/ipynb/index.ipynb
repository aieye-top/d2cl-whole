{
 "cells": [
  {
   "cell_type": "markdown",
   "metadata": {},
   "source": [
    "# Dive into cheap deep learning\n",
    "\n",
    "Dive into cheap deep learning.\n",
    "\n",
    "专注于让深度学习更划算更便宜！\n",
    "\n",
    "From your IQ, your devices, and your resource.\n",
    "\n",
    "从学习智力上、装备上、资源上。"
   ]
  },
  {
   "cell_type": "markdown",
   "metadata": {},
   "source": [
    ":begin_tab:toc\n",
    " - [get_started](get_started.ipynb)\n",
    ":end_tab:\n"
   ]
  },
  {
   "cell_type": "markdown",
   "metadata": {},
   "source": [
    ":begin_tab:toc\n",
    " - [chapter_introduction/index](chapter_introduction/index.ipynb)\n",
    " - [chapter_write_code/index](chapter_write_code/index.ipynb)\n",
    " - [chapter_lightweight/index](chapter_lightweight/index.ipynb)\n",
    " - [chapter_train/index](chapter_train/index.ipynb)\n",
    " - [chapter_deploy/index](chapter_deploy/index.ipynb)\n",
    ":end_tab:\n"
   ]
  }
 ],
 "metadata": {
  "language_info": {
   "name": "python"
  }
 },
 "nbformat": 4,
 "nbformat_minor": 4
}