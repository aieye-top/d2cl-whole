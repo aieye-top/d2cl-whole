{
 "cells": [
  {
   "cell_type": "markdown",
   "id": "architectural-disease",
   "metadata": {},
   "source": [
    "# Dive into cheap deep learning\n",
    "\n",
    "Dive into cheap deep learning.\n",
    "\n",
    "专注于让深度学习更划算更便宜！\n",
    "\n",
    "From your IQ, your devices, and your resource.\n",
    "\n",
    "从学习智力上、装备上、资源上。\n",
    "\n",
    "AI PM 2020年应届生失业一年求职。。"
   ]
  },
  {
   "cell_type": "markdown",
   "id": "according-morris",
   "metadata": {},
   "source": [
    ":begin_tab:toc\n",
    " - [get_started](get_started.ipynb)\n",
    ":end_tab:\n"
   ]
  },
  {
   "cell_type": "markdown",
   "id": "recreational-effect",
   "metadata": {},
   "source": [
    ":begin_tab:toc\n",
    " - [chapter_introduction/index](chapter_introduction/index.ipynb)\n",
    " - [chapter_lightweight/index](chapter_lightweight/index.ipynb)\n",
    " - [chapter_compression/index](chapter_compression/index.ipynb)\n",
    " - [chapter_write_code/index](chapter_write_code/index.ipynb)\n",
    " - [chapter_train/index](chapter_train/index.ipynb)\n",
    " - [chapter_deploy/index](chapter_deploy/index.ipynb)\n",
    ":end_tab:\n"
   ]
  }
 ],
 "metadata": {
  "language_info": {
   "name": "python"
  }
 },
 "nbformat": 4,
 "nbformat_minor": 5
}