{
 "cells": [
  {
   "cell_type": "markdown",
   "id": "uniform-screen",
   "metadata": {},
   "source": [
    "# Getting Started\n",
    "\n",
    "Please first install my favorite package `torch`."
   ]
  },
  {
   "cell_type": "code",
   "execution_count": 1,
   "id": "defensive-factor",
   "metadata": {
    "attributes": {
     "classes": [],
     "id": "",
     "n": "1"
    }
   },
   "outputs": [
    {
     "name": "stdout",
     "output_type": "stream",
     "text": [
      "Requirement already satisfied: torch in /usr/local/lib/python3.8/dist-packages (1.7.1)\r\n",
      "Requirement already satisfied: typing-extensions in /usr/local/lib/python3.8/dist-packages (from torch) (3.7.4.3)\r\n",
      "Requirement already satisfied: numpy in /usr/local/lib/python3.8/dist-packages (from torch) (1.19.5)\r\n"
     ]
    }
   ],
   "source": [
    "!pip install torch"
   ]
  },
  {
   "cell_type": "markdown",
   "id": "ethical-fraud",
   "metadata": {},
   "source": [
    "This course teaches full-stack production deep learning:[1]\n",
    "\n",
    "- Formulating the problem and estimating project cost\n",
    "- Finding, cleaning, labeling, and augmenting data\n",
    "- Picking the right framework and compute infrastructure\n",
    "- Troubleshooting training and ensuring reproducibility\n",
    "- Deploying the model at scale\n",
    "\n",
    "Who is this for\n",
    "\n",
    "- The course is aimed at people who already know the basics of deep learning and want to understand the rest of the process of creating production deep learning systems. You will get the most out of this course if you have:\n",
    "- At least one-year experience programming in Python.\n",
    "- At least one deep learning course (at a university or online).\n",
    "- Experience with code versioning, Unix environments, and software engineering.\n",
    "\n",
    "Phase 1 is Project Planning and Project Setup: At this phase, we want to decide the problem to work on, determine the requirements and goals, as well as figure out how to allocate resources properly.\n",
    "Phase 2 is Data Collection and Data Labeling: At this phase, we want to collect training data (images, text, tabular, etc.) and potentially annotate them with ground truth, depending on the specific sources where they come from.\n",
    "Phase 3 is Model Training and Model Debugging: At this phase, we want to implement baseline models quickly, find and reproduce state-of-the-art methods for the problem domain, debug our implementation, and improve the model performance for specific tasks.\n",
    "Phase 4 is Model Deployment and Model Testing: At this phase, we want to pilot the model in a constrained environment, write tests to prevent regressions, and roll the model into production.\n",
    "\n",
    "[1]: https://course.fullstackdeeplearning.com/"
   ]
  }
 ],
 "metadata": {
  "language_info": {
   "name": "python"
  }
 },
 "nbformat": 4,
 "nbformat_minor": 5
}