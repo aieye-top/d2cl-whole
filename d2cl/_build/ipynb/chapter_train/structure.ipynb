{
 "cells": [
  {
   "cell_type": "markdown",
   "id": "artistic-bundle",
   "metadata": {},
   "source": [
    "# 结构\n",
    "\n",
    "结构复用\n",
    "\n",
    "## 多用卷积核Versatile Filters (NeurIPS 2018)\n",
    "\n",
    "## 乐高卷积核\n",
    "\n",
    "[1]: https://www.bilibili.com/video/BV1Yt4y197Sd?from=search&seid=16685409903707063286"
   ]
  }
 ],
 "metadata": {
  "language_info": {
   "name": "python"
  }
 },
 "nbformat": 4,
 "nbformat_minor": 5
}