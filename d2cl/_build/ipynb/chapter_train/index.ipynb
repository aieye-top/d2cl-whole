{
 "cells": [
  {
   "cell_type": "markdown",
   "id": "executive-valuation",
   "metadata": {},
   "source": [
    "# Train\n",
    ":label:`chap_train`"
   ]
  },
  {
   "cell_type": "markdown",
   "id": "fuzzy-gibraltar",
   "metadata": {},
   "source": [
    ":begin_tab:toc\n",
    " - [Server](Server.ipynb)\n",
    " - [Active_Learning](Active_Learning.ipynb)\n",
    " - [pretrain](pretrain.ipynb)\n",
    " - [improve](improve.ipynb)\n",
    " - [structure](structure.ipynb)\n",
    ":end_tab:\n"
   ]
  }
 ],
 "metadata": {
  "language_info": {
   "name": "python"
  }
 },
 "nbformat": 4,
 "nbformat_minor": 5
}