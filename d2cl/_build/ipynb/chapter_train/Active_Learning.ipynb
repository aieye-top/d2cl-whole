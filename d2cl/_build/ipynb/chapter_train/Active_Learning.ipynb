{
 "cells": [
  {
   "cell_type": "markdown",
   "metadata": {},
   "source": [
    "# Active Learning\n",
    "\n",
    "开源框架让深度学习真正的门槛变成了很简单概念——钱。这个钱有两个很重要的流向，一是计算机的运算能力（GPU Power），二是标记数据的数量。[1]\n",
    "\n",
    "## 标记的数据多少算够？\n",
    "\n",
    "主动学习那些比较“难的”，“信息量大的”样本（hard mining）\n",
    "\n",
    "\n",
    "\n",
    "\n",
    "\n",
    "\n",
    "\n",
    "[1]: https://zhuanlan.zhihu.com/p/27019114\n",
    "[2]: https://github.com/ej0cl6/deep-active-learning\n",
    "[3]: https://github.com/rmunro/pytorch_active_learning"
   ]
  }
 ],
 "metadata": {
  "language_info": {
   "name": "python"
  }
 },
 "nbformat": 4,
 "nbformat_minor": 4
}