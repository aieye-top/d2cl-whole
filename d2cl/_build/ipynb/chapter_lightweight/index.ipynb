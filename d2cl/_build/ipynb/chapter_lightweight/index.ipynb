{
 "cells": [
  {
   "cell_type": "markdown",
   "metadata": {},
   "source": [
    "# Lightweight\n",
    ":label:`chap_lightweight`"
   ]
  },
  {
   "cell_type": "markdown",
   "metadata": {},
   "source": [
    ":begin_tab:toc\n",
    " - [lightweight](lightweight.ipynb)\n",
    " - [mobilenet](mobilenet.ipynb)\n",
    " - [mobilenet_v2](mobilenet_v2.ipynb)\n",
    " - [shufflenet](shufflenet.ipynb)\n",
    " - [compression](compression.ipynb)\n",
    " - [pruning](pruning.ipynb)\n",
    " - [Knowledge-Distillation](Knowledge-Distillation.ipynb)\n",
    ":end_tab:\n"
   ]
  }
 ],
 "metadata": {
  "language_info": {
   "name": "python"
  }
 },
 "nbformat": 4,
 "nbformat_minor": 4
}