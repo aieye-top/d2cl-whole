{
 "cells": [
  {
   "cell_type": "markdown",
   "id": "naked-worship",
   "metadata": {},
   "source": [
    "# Lightweight\n",
    ":label:`chap_lightweight`"
   ]
  },
  {
   "cell_type": "markdown",
   "id": "facial-conflict",
   "metadata": {},
   "source": [
    ":begin_tab:toc\n",
    " - [lightweight](lightweight.ipynb)\n",
    " - [squeezenet](squeezenet.ipynb)\n",
    " - [mobilenet](mobilenet.ipynb)\n",
    " - [mobilenet_v2](mobilenet_v2.ipynb)\n",
    " - [shufflenet](shufflenet.ipynb)\n",
    " - [GhostNet](GhostNet.ipynb)\n",
    ":end_tab:\n"
   ]
  }
 ],
 "metadata": {
  "language_info": {
   "name": "python"
  }
 },
 "nbformat": 4,
 "nbformat_minor": 5
}