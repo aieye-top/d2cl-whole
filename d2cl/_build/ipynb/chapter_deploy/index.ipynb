{
 "cells": [
  {
   "cell_type": "markdown",
   "id": "respiratory-estate",
   "metadata": {},
   "source": [
    "# Deployment\n",
    ":label:`chap_deploy`"
   ]
  },
  {
   "cell_type": "markdown",
   "id": "attempted-evanescence",
   "metadata": {},
   "source": [
    ":begin_tab:toc\n",
    " - [hardware](hardware.ipynb)\n",
    " - [edge](edge.ipynb)\n",
    " - [mobile](mobile.ipynb)\n",
    " - [MCU](MCU.ipynb)\n",
    " - [AI-zhongtai](AI-zhongtai.ipynb)\n",
    ":end_tab:\n"
   ]
  }
 ],
 "metadata": {
  "language_info": {
   "name": "python"
  }
 },
 "nbformat": 4,
 "nbformat_minor": 5
}