{
 "cells": [
  {
   "cell_type": "markdown",
   "id": "fantastic-chosen",
   "metadata": {},
   "source": [
    "# Compression\n",
    ":label:`chap_compression`"
   ]
  },
  {
   "cell_type": "markdown",
   "id": "powered-finnish",
   "metadata": {},
   "source": [
    ":begin_tab:toc\n",
    " - [compression](compression.ipynb)\n",
    " - [pruning](pruning.ipynb)\n",
    " - [Knowledge-Distillation](Knowledge-Distillation.ipynb)\n",
    " - [quantization](quantization.ipynb)\n",
    " - [mix](mix.ipynb)\n",
    ":end_tab:\n"
   ]
  }
 ],
 "metadata": {
  "language_info": {
   "name": "python"
  }
 },
 "nbformat": 4,
 "nbformat_minor": 5
}