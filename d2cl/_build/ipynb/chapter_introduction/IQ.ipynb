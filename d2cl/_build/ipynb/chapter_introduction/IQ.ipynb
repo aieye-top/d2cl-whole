{
 "cells": [
  {
   "cell_type": "markdown",
   "metadata": {},
   "source": [
    "# IQ\n",
    "\n",
    "不是所有人都拥有天才的智慧，我们这些普通人该怎么过？"
   ]
  }
 ],
 "metadata": {
  "language_info": {
   "name": "python"
  }
 },
 "nbformat": 4,
 "nbformat_minor": 4
}