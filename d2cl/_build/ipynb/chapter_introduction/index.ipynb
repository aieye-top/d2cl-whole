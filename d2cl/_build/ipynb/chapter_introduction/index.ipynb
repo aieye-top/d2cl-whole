{
 "cells": [
  {
   "cell_type": "markdown",
   "metadata": {},
   "source": [
    "# Introduction\n",
    ":label:`chap_introduction`"
   ]
  },
  {
   "cell_type": "markdown",
   "metadata": {},
   "source": [
    ":begin_tab:toc\n",
    " - [time](time.ipynb)\n",
    " - [IQ](IQ.ipynb)\n",
    " - [money](money.ipynb)\n",
    ":end_tab:\n"
   ]
  }
 ],
 "metadata": {
  "language_info": {
   "name": "python"
  }
 },
 "nbformat": 4,
 "nbformat_minor": 4
}