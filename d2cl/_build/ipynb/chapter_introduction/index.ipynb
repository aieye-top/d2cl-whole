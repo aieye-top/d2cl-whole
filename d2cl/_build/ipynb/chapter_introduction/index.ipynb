{
 "cells": [
  {
   "cell_type": "markdown",
   "id": "accredited-lodge",
   "metadata": {},
   "source": [
    "# Introduction\n",
    ":label:`chap_introduction`"
   ]
  },
  {
   "cell_type": "markdown",
   "id": "loving-pastor",
   "metadata": {},
   "source": [
    ":begin_tab:toc\n",
    " - [time](time.ipynb)\n",
    " - [technology](technology.ipynb)\n",
    " - [privacy](privacy.ipynb)\n",
    " - [money](money.ipynb)\n",
    " - [data](data.ipynb)\n",
    ":end_tab:\n"
   ]
  }
 ],
 "metadata": {
  "language_info": {
   "name": "python"
  }
 },
 "nbformat": 4,
 "nbformat_minor": 5
}