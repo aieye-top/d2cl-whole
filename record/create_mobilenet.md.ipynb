{
 "cells": [
  {
   "cell_type": "code",
   "execution_count": 1,
   "metadata": {},
   "outputs": [
    {
     "name": "stdout",
     "output_type": "stream",
     "text": [
      "Overwriting ../d2cl/chapter_lightweight/index.md\n"
     ]
    }
   ],
   "source": [
    "%%writefile ../d2cl/chapter_lightweight/index.md\n",
    "\n",
    "# Introduction\n",
    ":label:`chap_lightweight`\n",
    "        \n",
    "```toc\n",
    ":maxdepth: 2\n",
    "\n",
    "mobilenet\n",
    "```"
   ]
  },
  {
   "cell_type": "code",
   "execution_count": 2,
   "metadata": {},
   "outputs": [
    {
     "name": "stdout",
     "output_type": "stream",
     "text": [
      "/root/d2cl/d2cl\n",
      "[d2lbook:config.py:L12] INFO   Load configure from config.ini\n",
      "[d2lbook:build.py:L131] INFO   2 notebooks are outdated\n",
      "[d2lbook:build.py:L133] INFO   [1] ./_build/github_deploy-git/README.md\n",
      "[d2lbook:build.py:L133] INFO   [2] ./chapter_lightweight/index.md\n",
      "[d2lbook:build.py:L138] INFO   [1/2, 00:00:00] Evaluating ./_build/github_deploy-git/README.md, save as _build/eval/_build/github_deploy-git/README.ipynb\n",
      "[d2lbook:execute.py:L404] INFO   Executing notebook with kernel: python\n",
      "[d2lbook:build.py:L145] INFO   Finished in 00:00:02\n",
      "[d2lbook:build.py:L138] INFO   [2/2, 00:00:02] Evaluating ./chapter_lightweight/index.md, save as _build/eval/chapter_lightweight/index.ipynb\n",
      "[d2lbook:execute.py:L404] INFO   Executing notebook with kernel: python\n",
      "[d2lbook:build.py:L145] INFO   Finished in 00:00:02\n",
      "[d2lbook:build.py:L49] INFO   === Finished \"d2lbook build eval\" in 00:00:04\n",
      "[d2lbook:build.py:L247] INFO   2 rst files are outdated\n",
      "[d2lbook:build.py:L249] INFO   Convert _build/eval/_build/github_deploy-git/README.ipynb to _build/rst/_build/github_deploy-git/README.rst\n",
      "[d2lbook:build.py:L249] INFO   Convert _build/eval/chapter_lightweight/index.ipynb to _build/rst/chapter_lightweight/index.rst\n",
      "[d2lbook:build.py:L49] INFO   === Finished \"d2lbook build rst\" in 00:00:04\n",
      "[d2lbook:build.py:L49] INFO   === Finished \"d2lbook build ipynb\" in 00:00:00\n",
      "[d2lbook:build.py:L49] INFO   === Finished \"d2lbook build colab\" in 00:00:00\n",
      "[d2lbook:build.py:L49] INFO   === Finished \"d2lbook build sagemaker\" in 00:00:00\n",
      "\u001b[01mRunning Sphinx v3.4.1\u001b[39;49;00m\n",
      "/root/d2cl/d2cl/_build/rst/conf.py:104: RemovedInSphinx40Warning: The app.add_javascript() is deprecated. Please use app.add_js_file() instead.\n",
      "  app.add_javascript('d2l.js')\n",
      "/root/d2cl/d2cl/_build/rst/conf.py:105: RemovedInSphinx40Warning: The app.add_stylesheet() is deprecated. Please use app.add_css_file() instead.\n",
      "  app.add_stylesheet('d2l.css')\n",
      "\u001b[01mloading pickled environment... \u001b[39;49;00mdone\n",
      "\u001b[01mbuilding [mo]: \u001b[39;49;00mtargets for 0 po files that are out of date\n",
      "\u001b[01mbuilding [html]: \u001b[39;49;00mtargets for 1 source files that are out of date\n",
      "\u001b[01mupdating environment: \u001b[39;49;00m0 added, 2 changed, 0 removed\n",
      "\u001b[01mreading sources... \u001b[39;49;00m[100%] \u001b[35mchapter_lightweight/mobilenet\u001b[39;49;00m                         \n",
      "\u001b[91m/root/d2cl/d2cl/_build/rst/chapter_lightweight/mobilenet.rst:53: WARNING: image file not readable: chapter_lightweight/imgdepth_sep.jpg\u001b[39;49;00m\n",
      "\u001b[01mlooking for now-outdated files... \u001b[39;49;00mnone found\n",
      "\u001b[01mpickling environment... \u001b[39;49;00mdone\n",
      "\u001b[01mchecking consistency... \u001b[39;49;00mdone\n",
      "\u001b[01mpreparing documents... \u001b[39;49;00mdone\n",
      "\u001b[01mwriting output... \u001b[39;49;00m[100%] \u001b[32mindex\u001b[39;49;00m                                                  \n",
      "\u001b[01mwaiting for workers...\u001b[39;49;00m\n",
      "\u001b[01mgenerating indices... \u001b[39;49;00mgenindex done\n",
      "\u001b[01mwriting additional pages... \u001b[39;49;00msearch done\n",
      "\u001b[01mcopying static files... \u001b[39;49;00mdone\n",
      "\u001b[01mcopying extra files... \u001b[39;49;00mdone\n",
      "\u001b[01mdumping search index in English (code: en)... \u001b[39;49;00mdone\n",
      "\u001b[01mdumping object inventory... \u001b[39;49;00mdone\n",
      "\u001b[01mbuild succeeded, 1 warning.\u001b[39;49;00m\n",
      "\n",
      "The HTML pages are in _build/html.\n",
      "[d2lbook:build.py:L49] INFO   === Finished \"d2lbook build html\" in 00:00:07\n"
     ]
    }
   ],
   "source": [
    "!cd ../d2cl/;pwd;d2lbook build html"
   ]
  },
  {
   "cell_type": "code",
   "execution_count": 3,
   "metadata": {},
   "outputs": [
    {
     "name": "stdout",
     "output_type": "stream",
     "text": [
      "/root/d2cl/d2cl\n",
      "[d2lbook:config.py:L12] INFO   Load configure from config.ini\n",
      "Cloning into '/root/d2cl/d2cl/_build/github_deploy-git'...\n",
      "remote: Enumerating objects: 461, done.\u001b[K\n",
      "remote: Counting objects: 100% (461/461), done.\u001b[K\n",
      "remote: Compressing objects: 100% (123/123), done.\u001b[K\n",
      "remote: Total 461 (delta 346), reused 432 (delta 321), pack-reused 0\u001b[K\n",
      "Receiving objects: 100% (461/461), 2.58 MiB | 0 bytes/s, done.\n",
      "Resolving deltas: 100% (346/346), done.\n",
      "[master f9cd147] Version 0.0.1\n",
      " 7 files changed, 150 insertions(+), 30 deletions(-)\n",
      " rewrite searchindex.js (71%)\n",
      "Counting objects: 12, done.\n",
      "Delta compression using up to 2 threads.\n",
      "Compressing objects: 100% (12/12), done.\n",
      "Writing objects: 100% (12/12), 2.97 KiB | 0 bytes/s, done.\n",
      "Total 12 (delta 8), reused 0 (delta 0)\n",
      "remote: Resolving deltas: 100% (8/8), completed with 7 local objects.\u001b[K\n",
      "To github.com:aieye-top/d2cl.git\n",
      "   15d35f4..f9cd147  master -> master\n"
     ]
    }
   ],
   "source": [
    "!cd ../d2cl/;pwd;d2lbook deploy html"
   ]
  },
  {
   "cell_type": "markdown",
   "metadata": {},
   "source": [
    "mobilenet.py加了# MobileNet"
   ]
  },
  {
   "cell_type": "code",
   "execution_count": 4,
   "metadata": {},
   "outputs": [
    {
     "name": "stdout",
     "output_type": "stream",
     "text": [
      "/root/d2cl/d2cl\n",
      "[d2lbook:config.py:L12] INFO   Load configure from config.ini\n",
      "[d2lbook:build.py:L131] INFO   2 notebooks are outdated\n",
      "[d2lbook:build.py:L133] INFO   [1] ./_build/github_deploy-git/README.md\n",
      "[d2lbook:build.py:L133] INFO   [2] ./chapter_lightweight/mobilenet.md\n",
      "[d2lbook:build.py:L138] INFO   [1/2, 00:00:00] Evaluating ./_build/github_deploy-git/README.md, save as _build/eval/_build/github_deploy-git/README.ipynb\n",
      "[d2lbook:execute.py:L404] INFO   Executing notebook with kernel: python\n",
      "[d2lbook:build.py:L145] INFO   Finished in 00:00:02\n",
      "[d2lbook:build.py:L138] INFO   [2/2, 00:00:02] Evaluating ./chapter_lightweight/mobilenet.md, save as _build/eval/chapter_lightweight/mobilenet.ipynb\n",
      "[d2lbook:execute.py:L404] INFO   Executing notebook with kernel: python\n",
      "[d2lbook:build.py:L145] INFO   Finished in 00:00:01\n",
      "[d2lbook:build.py:L49] INFO   === Finished \"d2lbook build eval\" in 00:00:03\n",
      "[d2lbook:build.py:L247] INFO   2 rst files are outdated\n",
      "[d2lbook:build.py:L249] INFO   Convert _build/eval/_build/github_deploy-git/README.ipynb to _build/rst/_build/github_deploy-git/README.rst\n",
      "[d2lbook:build.py:L249] INFO   Convert _build/eval/chapter_lightweight/mobilenet.ipynb to _build/rst/chapter_lightweight/mobilenet.rst\n",
      "[d2lbook:build.py:L49] INFO   === Finished \"d2lbook build rst\" in 00:00:04\n",
      "[d2lbook:build.py:L49] INFO   === Finished \"d2lbook build ipynb\" in 00:00:00\n",
      "[d2lbook:build.py:L49] INFO   === Finished \"d2lbook build colab\" in 00:00:00\n",
      "[d2lbook:build.py:L49] INFO   === Finished \"d2lbook build sagemaker\" in 00:00:00\n",
      "\u001b[01mRunning Sphinx v3.4.1\u001b[39;49;00m\n",
      "/root/d2cl/d2cl/_build/rst/conf.py:104: RemovedInSphinx40Warning: The app.add_javascript() is deprecated. Please use app.add_js_file() instead.\n",
      "  app.add_javascript('d2l.js')\n",
      "/root/d2cl/d2cl/_build/rst/conf.py:105: RemovedInSphinx40Warning: The app.add_stylesheet() is deprecated. Please use app.add_css_file() instead.\n",
      "  app.add_stylesheet('d2l.css')\n",
      "\u001b[01mloading pickled environment... \u001b[39;49;00mdone\n",
      "\u001b[01mbuilding [mo]: \u001b[39;49;00mtargets for 0 po files that are out of date\n",
      "\u001b[01mbuilding [html]: \u001b[39;49;00mtargets for 1 source files that are out of date\n",
      "\u001b[01mupdating environment: \u001b[39;49;00m0 added, 1 changed, 0 removed\n",
      "\u001b[01mreading sources... \u001b[39;49;00m[100%] \u001b[35mchapter_lightweight/mobilenet\u001b[39;49;00m                         \n",
      "\u001b[91m/root/d2cl/d2cl/_build/rst/chapter_lightweight/mobilenet.rst:56: WARNING: image file not readable: chapter_lightweight/imgdepth_sep.jpg\u001b[39;49;00m\n",
      "\u001b[01mlooking for now-outdated files... \u001b[39;49;00mnone found\n",
      "\u001b[01mpickling environment... \u001b[39;49;00mdone\n",
      "\u001b[01mchecking consistency... \u001b[39;49;00mdone\n",
      "\u001b[01mpreparing documents... \u001b[39;49;00mdone\n",
      "\u001b[01mwriting output... \u001b[39;49;00m[100%] \u001b[32mindex\u001b[39;49;00m                                                  \n",
      "\u001b[01mwaiting for workers...\u001b[39;49;00m\n",
      "\u001b[01mgenerating indices... \u001b[39;49;00mgenindex done\n",
      "\u001b[01mwriting additional pages... \u001b[39;49;00msearch done\n",
      "\u001b[01mcopying static files... \u001b[39;49;00mdone\n",
      "\u001b[01mcopying extra files... \u001b[39;49;00mdone\n",
      "\u001b[01mdumping search index in English (code: en)... \u001b[39;49;00mdone\n",
      "\u001b[01mdumping object inventory... \u001b[39;49;00mdone\n",
      "\u001b[01mbuild succeeded, 1 warning.\u001b[39;49;00m\n",
      "\n",
      "The HTML pages are in _build/html.\n",
      "[d2lbook:build.py:L49] INFO   === Finished \"d2lbook build html\" in 00:00:07\n"
     ]
    }
   ],
   "source": [
    "!cd ../d2cl/;pwd;d2lbook build html"
   ]
  },
  {
   "cell_type": "markdown",
   "metadata": {},
   "source": [
    "mobilenet.py删图片、pytorch安装；忘save.."
   ]
  },
  {
   "cell_type": "code",
   "execution_count": 5,
   "metadata": {},
   "outputs": [
    {
     "name": "stdout",
     "output_type": "stream",
     "text": [
      "/root/d2cl/d2cl\n",
      "[d2lbook:config.py:L12] INFO   Load configure from config.ini\n",
      "Cloning into '/root/d2cl/d2cl/_build/github_deploy-git'...\n",
      "remote: Enumerating objects: 473, done.\u001b[K\n",
      "remote: Counting objects: 100% (473/473), done.\u001b[K\n",
      "remote: Compressing objects: 100% (130/130), done.\u001b[K\n",
      "remote: Total 473 (delta 354), reused 441 (delta 326), pack-reused 0\u001b[K\n",
      "Receiving objects: 100% (473/473), 2.58 MiB | 0 bytes/s, done.\n",
      "Resolving deltas: 100% (354/354), done.\n",
      "[master 441ff35] Version 0.0.1\n",
      " 8 files changed, 48 insertions(+), 91 deletions(-)\n",
      " rewrite searchindex.js (73%)\n",
      "Counting objects: 13, done.\n",
      "Delta compression using up to 2 threads.\n",
      "Compressing objects: 100% (13/13), done.\n",
      "Writing objects: 100% (13/13), 2.03 KiB | 0 bytes/s, done.\n",
      "Total 13 (delta 8), reused 0 (delta 0)\n",
      "remote: Resolving deltas: 100% (8/8), completed with 8 local objects.\u001b[K\n",
      "To github.com:aieye-top/d2cl.git\n",
      "   f9cd147..441ff35  master -> master\n"
     ]
    }
   ],
   "source": [
    "!cd ../d2cl/;pwd;d2lbook deploy html"
   ]
  },
  {
   "cell_type": "code",
   "execution_count": 6,
   "metadata": {},
   "outputs": [
    {
     "name": "stdout",
     "output_type": "stream",
     "text": [
      "/root/d2cl/d2cl\n",
      "[d2lbook:config.py:L12] INFO   Load configure from config.ini\n",
      "[d2lbook:build.py:L131] INFO   1 notebooks are outdated\n",
      "[d2lbook:build.py:L133] INFO   [1] ./_build/github_deploy-git/README.md\n",
      "[d2lbook:build.py:L138] INFO   [1/1, 00:00:00] Evaluating ./_build/github_deploy-git/README.md, save as _build/eval/_build/github_deploy-git/README.ipynb\n",
      "[d2lbook:execute.py:L404] INFO   Executing notebook with kernel: python\n",
      "[d2lbook:build.py:L145] INFO   Finished in 00:00:02\n",
      "[d2lbook:build.py:L49] INFO   === Finished \"d2lbook build eval\" in 00:00:02\n",
      "[d2lbook:build.py:L247] INFO   1 rst files are outdated\n",
      "[d2lbook:build.py:L249] INFO   Convert _build/eval/_build/github_deploy-git/README.ipynb to _build/rst/_build/github_deploy-git/README.rst\n",
      "[d2lbook:build.py:L49] INFO   === Finished \"d2lbook build rst\" in 00:00:03\n",
      "[d2lbook:build.py:L49] INFO   === Finished \"d2lbook build ipynb\" in 00:00:00\n",
      "[d2lbook:build.py:L49] INFO   === Finished \"d2lbook build colab\" in 00:00:00\n",
      "[d2lbook:build.py:L49] INFO   === Finished \"d2lbook build sagemaker\" in 00:00:00\n",
      "\u001b[01mRunning Sphinx v3.4.1\u001b[39;49;00m\n",
      "/root/d2cl/d2cl/_build/rst/conf.py:104: RemovedInSphinx40Warning: The app.add_javascript() is deprecated. Please use app.add_js_file() instead.\n",
      "  app.add_javascript('d2l.js')\n",
      "/root/d2cl/d2cl/_build/rst/conf.py:105: RemovedInSphinx40Warning: The app.add_stylesheet() is deprecated. Please use app.add_css_file() instead.\n",
      "  app.add_stylesheet('d2l.css')\n",
      "\u001b[01mloading pickled environment... \u001b[39;49;00mdone\n",
      "\u001b[01mbuilding [mo]: \u001b[39;49;00mtargets for 0 po files that are out of date\n",
      "\u001b[01mbuilding [html]: \u001b[39;49;00mtargets for 0 source files that are out of date\n",
      "\u001b[01mupdating environment: \u001b[39;49;00m0 added, 1 changed, 0 removed\n",
      "\u001b[01mreading sources... \u001b[39;49;00m[100%] \u001b[35mchapter_lightweight/mobilenet\u001b[39;49;00m                         \n",
      "\u001b[91m/root/d2cl/d2cl/_build/rst/chapter_lightweight/mobilenet.rst:56: WARNING: image file not readable: chapter_lightweight/imgdepth_sep.jpg\u001b[39;49;00m\n",
      "\u001b[01mlooking for now-outdated files... \u001b[39;49;00mnone found\n",
      "\u001b[01mpickling environment... \u001b[39;49;00mdone\n",
      "\u001b[01mchecking consistency... \u001b[39;49;00mdone\n",
      "\u001b[01mpreparing documents... \u001b[39;49;00mdone\n",
      "\u001b[01mwriting output... \u001b[39;49;00m[100%] \u001b[32mindex\u001b[39;49;00m                                                  \n",
      "\u001b[01mwaiting for workers...\u001b[39;49;00m\n",
      "\u001b[01mgenerating indices... \u001b[39;49;00mgenindex done\n",
      "\u001b[01mwriting additional pages... \u001b[39;49;00msearch done\n",
      "\u001b[01mcopying static files... \u001b[39;49;00mdone\n",
      "\u001b[01mcopying extra files... \u001b[39;49;00mdone\n",
      "\u001b[01mdumping search index in English (code: en)... \u001b[39;49;00mdone\n",
      "\u001b[01mdumping object inventory... \u001b[39;49;00mdone\n",
      "\u001b[01mbuild succeeded, 1 warning.\u001b[39;49;00m\n",
      "\n",
      "The HTML pages are in _build/html.\n",
      "[d2lbook:build.py:L49] INFO   === Finished \"d2lbook build html\" in 00:00:05\n"
     ]
    }
   ],
   "source": [
    "!cd ../d2cl/;pwd;d2lbook build html"
   ]
  },
  {
   "cell_type": "code",
   "execution_count": 7,
   "metadata": {},
   "outputs": [
    {
     "name": "stdout",
     "output_type": "stream",
     "text": [
      "/root/d2cl/d2cl\n",
      "[d2lbook:config.py:L12] INFO   Load configure from config.ini\n",
      "[d2lbook:build.py:L131] INFO   1 notebooks are outdated\n",
      "[d2lbook:build.py:L133] INFO   [1] ./chapter_lightweight/mobilenet.md\n",
      "[d2lbook:build.py:L138] INFO   [1/1, 00:00:00] Evaluating ./chapter_lightweight/mobilenet.md, save as _build/eval/chapter_lightweight/mobilenet.ipynb\n",
      "[d2lbook:execute.py:L404] INFO   Executing notebook with kernel: python\n",
      "[d2lbook:build.py:L145] INFO   Finished in 00:00:02\n",
      "[d2lbook:build.py:L49] INFO   === Finished \"d2lbook build eval\" in 00:00:02\n",
      "[d2lbook:build.py:L247] INFO   1 rst files are outdated\n",
      "[d2lbook:build.py:L249] INFO   Convert _build/eval/chapter_lightweight/mobilenet.ipynb to _build/rst/chapter_lightweight/mobilenet.rst\n",
      "[d2lbook:build.py:L49] INFO   === Finished \"d2lbook build rst\" in 00:00:03\n",
      "[d2lbook:build.py:L49] INFO   === Finished \"d2lbook build ipynb\" in 00:00:00\n",
      "[d2lbook:build.py:L49] INFO   === Finished \"d2lbook build colab\" in 00:00:00\n",
      "[d2lbook:build.py:L49] INFO   === Finished \"d2lbook build sagemaker\" in 00:00:00\n",
      "\u001b[01mRunning Sphinx v3.4.1\u001b[39;49;00m\n",
      "/root/d2cl/d2cl/_build/rst/conf.py:104: RemovedInSphinx40Warning: The app.add_javascript() is deprecated. Please use app.add_js_file() instead.\n",
      "  app.add_javascript('d2l.js')\n",
      "/root/d2cl/d2cl/_build/rst/conf.py:105: RemovedInSphinx40Warning: The app.add_stylesheet() is deprecated. Please use app.add_css_file() instead.\n",
      "  app.add_stylesheet('d2l.css')\n",
      "\u001b[01mloading pickled environment... \u001b[39;49;00mdone\n",
      "\u001b[01mbuilding [mo]: \u001b[39;49;00mtargets for 0 po files that are out of date\n",
      "\u001b[01mbuilding [html]: \u001b[39;49;00mtargets for 1 source files that are out of date\n",
      "\u001b[01mupdating environment: \u001b[39;49;00m0 added, 1 changed, 0 removed\n",
      "\u001b[01mreading sources... \u001b[39;49;00m[100%] \u001b[35mchapter_lightweight/mobilenet\u001b[39;49;00m                         \n",
      "\u001b[01mlooking for now-outdated files... \u001b[39;49;00mnone found\n",
      "\u001b[01mpickling environment... \u001b[39;49;00mdone\n",
      "\u001b[01mchecking consistency... \u001b[39;49;00mdone\n",
      "\u001b[01mpreparing documents... \u001b[39;49;00mdone\n",
      "\u001b[01mwriting output... \u001b[39;49;00m[100%] \u001b[32mindex\u001b[39;49;00m                                                  \n",
      "\u001b[01mwaiting for workers...\u001b[39;49;00m\n",
      "\u001b[01mgenerating indices... \u001b[39;49;00mgenindex done\n",
      "\u001b[01mwriting additional pages... \u001b[39;49;00msearch done\n",
      "\u001b[01mcopying static files... \u001b[39;49;00mdone\n",
      "\u001b[01mcopying extra files... \u001b[39;49;00mdone\n",
      "\u001b[01mdumping search index in English (code: en)... \u001b[39;49;00mdone\n",
      "\u001b[01mdumping object inventory... \u001b[39;49;00mdone\n",
      "\u001b[01mbuild succeeded.\u001b[39;49;00m\n",
      "\n",
      "The HTML pages are in _build/html.\n",
      "[d2lbook:build.py:L49] INFO   === Finished \"d2lbook build html\" in 00:00:05\n"
     ]
    }
   ],
   "source": [
    "!cd ../d2cl/;pwd;d2lbook build html"
   ]
  },
  {
   "cell_type": "code",
   "execution_count": 8,
   "metadata": {},
   "outputs": [
    {
     "name": "stdout",
     "output_type": "stream",
     "text": [
      "/root/d2cl/d2cl\n",
      "[d2lbook:config.py:L12] INFO   Load configure from config.ini\n",
      "Cloning into '/root/d2cl/d2cl/_build/github_deploy-git'...\n",
      "remote: Enumerating objects: 486, done.\u001b[K\n",
      "remote: Counting objects: 100% (486/486), done.\u001b[K\n",
      "remote: Compressing objects: 100% (135/135), done.\u001b[K\n",
      "remote: Total 486 (delta 362), reused 454 (delta 334), pack-reused 0\u001b[K\n",
      "Receiving objects: 100% (486/486), 2.58 MiB | 2.88 MiB/s, done.\n",
      "Resolving deltas: 100% (362/362), done.\n",
      "[master b86f8d5] Version 0.0.1\n",
      " 3 files changed, 3 insertions(+), 18 deletions(-)\n",
      " rewrite searchindex.js (73%)\n",
      "Counting objects: 8, done.\n",
      "Delta compression using up to 2 threads.\n",
      "Compressing objects: 100% (8/8), done.\n",
      "Writing objects: 100% (8/8), 815 bytes | 0 bytes/s, done.\n",
      "Total 8 (delta 5), reused 0 (delta 0)\n",
      "remote: Resolving deltas: 100% (5/5), completed with 5 local objects.\u001b[K\n",
      "To github.com:aieye-top/d2cl.git\n",
      "   441ff35..b86f8d5  master -> master\n"
     ]
    }
   ],
   "source": [
    "!cd ../d2cl/;pwd;d2lbook deploy html"
   ]
  },
  {
   "cell_type": "markdown",
   "metadata": {},
   "source": [
    "修改Lightweight名字。。"
   ]
  },
  {
   "cell_type": "code",
   "execution_count": 9,
   "metadata": {},
   "outputs": [
    {
     "name": "stdout",
     "output_type": "stream",
     "text": [
      "/root/d2cl/d2cl\n",
      "[d2lbook:config.py:L12] INFO   Load configure from config.ini\n",
      "[d2lbook:build.py:L131] INFO   2 notebooks are outdated\n",
      "[d2lbook:build.py:L133] INFO   [1] ./chapter_lightweight/index.md\n",
      "[d2lbook:build.py:L133] INFO   [2] ./_build/github_deploy-git/README.md\n",
      "[d2lbook:build.py:L138] INFO   [1/2, 00:00:00] Evaluating ./chapter_lightweight/index.md, save as _build/eval/chapter_lightweight/index.ipynb\n",
      "[d2lbook:execute.py:L404] INFO   Executing notebook with kernel: python\n",
      "[d2lbook:build.py:L145] INFO   Finished in 00:00:02\n",
      "[d2lbook:build.py:L138] INFO   [2/2, 00:00:02] Evaluating ./_build/github_deploy-git/README.md, save as _build/eval/_build/github_deploy-git/README.ipynb\n",
      "[d2lbook:execute.py:L404] INFO   Executing notebook with kernel: python\n",
      "[d2lbook:build.py:L145] INFO   Finished in 00:00:01\n",
      "[d2lbook:build.py:L49] INFO   === Finished \"d2lbook build eval\" in 00:00:04\n",
      "[d2lbook:build.py:L247] INFO   2 rst files are outdated\n",
      "[d2lbook:build.py:L249] INFO   Convert _build/eval/chapter_lightweight/index.ipynb to _build/rst/chapter_lightweight/index.rst\n",
      "[d2lbook:build.py:L249] INFO   Convert _build/eval/_build/github_deploy-git/README.ipynb to _build/rst/_build/github_deploy-git/README.rst\n",
      "[d2lbook:build.py:L49] INFO   === Finished \"d2lbook build rst\" in 00:00:04\n",
      "[d2lbook:build.py:L49] INFO   === Finished \"d2lbook build ipynb\" in 00:00:00\n",
      "[d2lbook:build.py:L49] INFO   === Finished \"d2lbook build colab\" in 00:00:00\n",
      "[d2lbook:build.py:L49] INFO   === Finished \"d2lbook build sagemaker\" in 00:00:00\n",
      "\u001b[01mRunning Sphinx v3.4.1\u001b[39;49;00m\n",
      "/root/d2cl/d2cl/_build/rst/conf.py:104: RemovedInSphinx40Warning: The app.add_javascript() is deprecated. Please use app.add_js_file() instead.\n",
      "  app.add_javascript('d2l.js')\n",
      "/root/d2cl/d2cl/_build/rst/conf.py:105: RemovedInSphinx40Warning: The app.add_stylesheet() is deprecated. Please use app.add_css_file() instead.\n",
      "  app.add_stylesheet('d2l.css')\n",
      "\u001b[01mloading pickled environment... \u001b[39;49;00mdone\n",
      "\u001b[01mbuilding [mo]: \u001b[39;49;00mtargets for 0 po files that are out of date\n",
      "\u001b[01mbuilding [html]: \u001b[39;49;00mtargets for 1 source files that are out of date\n",
      "\u001b[01mupdating environment: \u001b[39;49;00m0 added, 1 changed, 0 removed\n",
      "\u001b[01mreading sources... \u001b[39;49;00m[100%] \u001b[35mchapter_lightweight/index\u001b[39;49;00m                             \n",
      "\u001b[01mlooking for now-outdated files... \u001b[39;49;00mnone found\n",
      "\u001b[01mpickling environment... \u001b[39;49;00mdone\n",
      "\u001b[01mchecking consistency... \u001b[39;49;00mdone\n",
      "\u001b[01mpreparing documents... \u001b[39;49;00mdone\n",
      "\u001b[01mwriting output... \u001b[39;49;00m[100%] \u001b[32mindex\u001b[39;49;00m                                                  \n",
      "\u001b[01mwaiting for workers...\u001b[39;49;00m\n",
      "\u001b[01mgenerating indices... \u001b[39;49;00mgenindex done\n",
      "\u001b[01mwriting additional pages... \u001b[39;49;00msearch done\n",
      "\u001b[01mcopying static files... \u001b[39;49;00mdone\n",
      "\u001b[01mcopying extra files... \u001b[39;49;00mdone\n",
      "\u001b[01mdumping search index in English (code: en)... \u001b[39;49;00mdone\n",
      "\u001b[01mdumping object inventory... \u001b[39;49;00mdone\n",
      "\u001b[01mbuild succeeded.\u001b[39;49;00m\n",
      "\n",
      "The HTML pages are in _build/html.\n",
      "[d2lbook:build.py:L49] INFO   === Finished \"d2lbook build html\" in 00:00:08\n"
     ]
    }
   ],
   "source": [
    "!cd ../d2cl/;pwd;d2lbook build html"
   ]
  },
  {
   "cell_type": "code",
   "execution_count": 10,
   "metadata": {},
   "outputs": [
    {
     "name": "stdout",
     "output_type": "stream",
     "text": [
      "/root/d2cl/d2cl\n",
      "[d2lbook:config.py:L12] INFO   Load configure from config.ini\n",
      "Cloning into '/root/d2cl/d2cl/_build/github_deploy-git'...\n",
      "remote: Enumerating objects: 494, done.\u001b[K\n",
      "remote: Counting objects: 100% (494/494), done.\u001b[K\n",
      "remote: Compressing objects: 100% (139/139), done.\u001b[K\n",
      "remote: Total 494 (delta 367), reused 461 (delta 338), pack-reused 0\u001b[K\n",
      "Receiving objects: 100% (494/494), 2.58 MiB | 0 bytes/s, done.\n",
      "Resolving deltas: 100% (367/367), done.\n",
      "[master e1aaf36] Version 0.0.1\n",
      " 7 files changed, 16 insertions(+), 16 deletions(-)\n",
      "Counting objects: 12, done.\n",
      "Delta compression using up to 2 threads.\n",
      "Compressing objects: 100% (12/12), done.\n",
      "Writing objects: 100% (12/12), 1.69 KiB | 0 bytes/s, done.\n",
      "Total 12 (delta 6), reused 0 (delta 0)\n",
      "remote: Resolving deltas: 100% (6/6), completed with 6 local objects.\u001b[K\n",
      "To github.com:aieye-top/d2cl.git\n",
      "   b86f8d5..e1aaf36  master -> master\n"
     ]
    }
   ],
   "source": [
    "!cd ../d2cl/;pwd;d2lbook deploy html"
   ]
  }
 ],
 "metadata": {
  "kernelspec": {
   "display_name": "Python 3",
   "language": "python",
   "name": "python3"
  },
  "language_info": {
   "codemirror_mode": {
    "name": "ipython",
    "version": 3
   },
   "file_extension": ".py",
   "mimetype": "text/x-python",
   "name": "python",
   "nbconvert_exporter": "python",
   "pygments_lexer": "ipython3",
   "version": "3.8.5"
  }
 },
 "nbformat": 4,
 "nbformat_minor": 4
}
