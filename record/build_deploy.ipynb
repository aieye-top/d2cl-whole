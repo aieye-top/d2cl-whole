{
 "cells": [
  {
   "cell_type": "code",
   "execution_count": 1,
   "metadata": {},
   "outputs": [
    {
     "output_type": "stream",
     "name": "stdout",
     "text": [
      "/root/d2cl/d2cl\n",
      "[d2lbook:config.py:L12] INFO   Load configure from config.ini\n",
      "[d2lbook:build.py:L131] INFO   2 notebooks are outdated\n",
      "[d2lbook:build.py:L133] INFO   [1] ./_build/github_deploy-git/README.md\n",
      "[d2lbook:build.py:L133] INFO   [2] ./chapter_train/Server.md\n",
      "[d2lbook:build.py:L138] INFO   [1/2, 00:00:00] Evaluating ./_build/github_deploy-git/README.md, save as _build/eval/_build/github_deploy-git/README.ipynb\n",
      "[d2lbook:execute.py:L404] INFO   Executing notebook with kernel: python\n",
      "[d2lbook:build.py:L145] INFO   Finished in 00:00:01\n",
      "[d2lbook:build.py:L138] INFO   [2/2, 00:00:02] Evaluating ./chapter_train/Server.md, save as _build/eval/chapter_train/Server.ipynb\n",
      "[d2lbook:execute.py:L404] INFO   Executing notebook with kernel: python\n",
      "[d2lbook:build.py:L145] INFO   Finished in 00:00:01\n",
      "[d2lbook:build.py:L49] INFO   === Finished \"d2lbook build eval\" in 00:00:03\n",
      "[d2lbook:build.py:L247] INFO   2 rst files are outdated\n",
      "[d2lbook:build.py:L249] INFO   Convert _build/eval/chapter_train/Server.ipynb to _build/rst/chapter_train/Server.rst\n",
      "[d2lbook:build.py:L249] INFO   Convert _build/eval/_build/github_deploy-git/README.ipynb to _build/rst/_build/github_deploy-git/README.rst\n",
      "[d2lbook:build.py:L49] INFO   === Finished \"d2lbook build rst\" in 00:00:03\n",
      "[d2lbook:build.py:L49] INFO   === Finished \"d2lbook build ipynb\" in 00:00:00\n",
      "[d2lbook:build.py:L49] INFO   === Finished \"d2lbook build colab\" in 00:00:00\n",
      "[d2lbook:build.py:L49] INFO   === Finished \"d2lbook build sagemaker\" in 00:00:00\n",
      "\u001b[01mRunning Sphinx v3.4.1\u001b[39;49;00m\n",
      "\u001b[01mloading pickled environment... \u001b[39;49;00mdone\n",
      "\u001b[01mbuilding [mo]: \u001b[39;49;00mtargets for 0 po files that are out of date\n",
      "\u001b[01mbuilding [html]: \u001b[39;49;00mtargets for 0 source files that are out of date\n",
      "\u001b[01mupdating environment: \u001b[39;49;00m1 added, 1 changed, 0 removed\n",
      "\n",
      "\u001b[01mlooking for now-outdated files... \u001b[39;49;00mnone found\n",
      "\u001b[01mpickling environment... \u001b[39;49;00mdone\n",
      "\u001b[01mchecking consistency... \u001b[39;49;00mdone\n",
      "\u001b[01mpreparing documents... \u001b[39;49;00mdone\n",
      "\n",
      "\u001b[01mwaiting for workers...\u001b[39;49;00m\n",
      "\u001b[01mgenerating indices... \u001b[39;49;00mgenindex done\n",
      "\u001b[01mwriting additional pages... \u001b[39;49;00msearch done\n",
      "\u001b[01mcopying static files... \u001b[39;49;00mdone\n",
      "\u001b[01mcopying extra files... \u001b[39;49;00mdone\n",
      "\u001b[01mdumping search index in English (code: en)... \u001b[39;49;00mdone\n",
      "\u001b[01mdumping object inventory... \u001b[39;49;00mdone\n",
      "\u001b[01mbuild succeeded.\u001b[39;49;00m\n",
      "\n",
      "The HTML pages are in _build/html.\n",
      "[d2lbook:build.py:L49] INFO   === Finished \"d2lbook build html\" in 00:00:06\n"
     ]
    }
   ],
   "source": [
    "!cd ../d2cl/;pwd;d2lbook build html"
   ]
  },
  {
   "cell_type": "code",
   "execution_count": 2,
   "metadata": {},
   "outputs": [
    {
     "output_type": "stream",
     "name": "stdout",
     "text": [
      "/root/d2cl/d2cl\n",
      "[d2lbook:config.py:L12] INFO   Load configure from config.ini\n",
      "Cloning into '/root/d2cl/d2cl/_build/github_deploy-git'...\n",
      "remote: Enumerating objects: 528, done.\u001b[K\n",
      "remote: Counting objects: 100% (528/528), done.\u001b[K\n",
      "remote: Compressing objects: 100% (162/162), done.\u001b[K\n",
      "remote: Total 528 (delta 387), reused 483 (delta 346), pack-reused 0\u001b[K\n",
      "Receiving objects: 100% (528/528), 2.59 MiB | 0 bytes/s, done.\n",
      "Resolving deltas: 100% (387/387), done.\n",
      "[master e91e5ec] Version 0.0.1\n",
      " 8 files changed, 230 insertions(+), 10 deletions(-)\n",
      " create mode 100644 _sources/chapter_train/Server.rst.txt\n",
      " create mode 100644 chapter_train/Server.html\n",
      " rewrite objects.inv (70%)\n",
      " rewrite searchindex.js (97%)\n",
      "Counting objects: 13, done.\n",
      "Delta compression using up to 2 threads.\n",
      "Compressing objects: 100% (12/12), done.\n",
      "Writing objects: 100% (13/13), 2.26 KiB | 0 bytes/s, done.\n",
      "Total 13 (delta 8), reused 0 (delta 0)\n",
      "remote: Resolving deltas: 100% (8/8), completed with 7 local objects.\u001b[K\n",
      "To github.com:aieye-top/d2cl.git\n",
      "   3cb94d8..e91e5ec  master -> master\n"
     ]
    }
   ],
   "source": [
    "!cd ../d2cl/;pwd;d2lbook deploy html"
   ]
  }
 ],
 "metadata": {
  "kernelspec": {
   "name": "python3",
   "display_name": "Python 3.8.5 64-bit ('d2l': conda)",
   "metadata": {
    "interpreter": {
     "hash": "766b6ad58eb83dbbf38bbf1a69b37249a5455d5a1e9dd08caa2512810ec5ca37"
    }
   }
  },
  "language_info": {
   "codemirror_mode": {
    "name": "ipython",
    "version": 3
   },
   "file_extension": ".py",
   "mimetype": "text/x-python",
   "name": "python",
   "nbconvert_exporter": "python",
   "pygments_lexer": "ipython3",
   "version": "3.8.5-final"
  }
 },
 "nbformat": 4,
 "nbformat_minor": 4
}