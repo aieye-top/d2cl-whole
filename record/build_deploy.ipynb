{
 "cells": [
  {
   "cell_type": "code",
   "execution_count": 1,
   "metadata": {},
   "outputs": [
    {
     "name": "stdout",
     "output_type": "stream",
     "text": [
      "/root/d2cl/d2cl\n",
      "[d2lbook:config.py:L12] INFO   Load configure from config.ini\n",
      "[d2lbook:build.py:L131] INFO   1 notebooks are outdated\n",
      "[d2lbook:build.py:L133] INFO   [1] ./_build/github_deploy-git/README.md\n",
      "[d2lbook:build.py:L138] INFO   [1/1, 00:00:00] Evaluating ./_build/github_deploy-git/README.md, save as _build/eval/_build/github_deploy-git/README.ipynb\n",
      "[d2lbook:execute.py:L404] INFO   Executing notebook with kernel: python\n",
      "[d2lbook:build.py:L145] INFO   Finished in 00:00:03\n",
      "[d2lbook:build.py:L49] INFO   === Finished \"d2lbook build eval\" in 00:00:03\n",
      "[d2lbook:build.py:L247] INFO   1 rst files are outdated\n",
      "[d2lbook:build.py:L249] INFO   Convert _build/eval/_build/github_deploy-git/README.ipynb to _build/rst/_build/github_deploy-git/README.rst\n",
      "[d2lbook:build.py:L49] INFO   === Finished \"d2lbook build rst\" in 00:00:03\n",
      "[d2lbook:build.py:L49] INFO   === Finished \"d2lbook build ipynb\" in 00:00:00\n",
      "[d2lbook:build.py:L49] INFO   === Finished \"d2lbook build colab\" in 00:00:00\n",
      "[d2lbook:build.py:L49] INFO   === Finished \"d2lbook build sagemaker\" in 00:00:00\n",
      "\u001b[01mRunning Sphinx v3.4.1\u001b[39;49;00m\n",
      "/root/d2cl/d2cl/_build/rst/conf.py:104: RemovedInSphinx40Warning: The app.add_javascript() is deprecated. Please use app.add_js_file() instead.\n",
      "  app.add_javascript('d2l.js')\n",
      "/root/d2cl/d2cl/_build/rst/conf.py:105: RemovedInSphinx40Warning: The app.add_stylesheet() is deprecated. Please use app.add_css_file() instead.\n",
      "  app.add_stylesheet('d2l.css')\n",
      "\u001b[01mloading pickled environment... \u001b[39;49;00mdone\n",
      "\u001b[01mbuilding [mo]: \u001b[39;49;00mtargets for 0 po files that are out of date\n",
      "\u001b[01mbuilding [html]: \u001b[39;49;00mtargets for 0 source files that are out of date\n",
      "\u001b[01mupdating environment: \u001b[39;49;00m0 added, 0 changed, 0 removed\n",
      "\u001b[01mlooking for now-outdated files... \u001b[39;49;00mnone found\n",
      "\u001b[01mno targets are out of date.\u001b[39;49;00m\n",
      "\u001b[01mbuild succeeded.\u001b[39;49;00m\n",
      "\n",
      "The HTML pages are in _build/html.\n",
      "[d2lbook:build.py:L49] INFO   === Finished \"d2lbook build html\" in 00:00:05\n"
     ]
    }
   ],
   "source": [
    "!cd ../d2cl/;pwd;d2lbook build html"
   ]
  },
  {
   "cell_type": "code",
   "execution_count": 2,
   "metadata": {},
   "outputs": [
    {
     "name": "stdout",
     "output_type": "stream",
     "text": [
      "/root/d2cl/d2cl\n",
      "[d2lbook:config.py:L12] INFO   Load configure from config.ini\n",
      "Cloning into '/root/d2cl/d2cl/_build/github_deploy-git'...\n",
      "remote: Enumerating objects: 506, done.\u001b[K\n",
      "remote: Counting objects: 100% (506/506), done.\u001b[K\n",
      "remote: Compressing objects: 100% (148/148), done.\u001b[K\n",
      "remote: Total 506 (delta 373), reused 470 (delta 341), pack-reused 0\u001b[K\n",
      "Receiving objects: 100% (506/506), 2.59 MiB | 0 bytes/s, done.\n",
      "Resolving deltas: 100% (373/373), done.\n",
      "Everything up-to-date\n"
     ]
    }
   ],
   "source": [
    "!cd ../d2cl/;pwd;d2lbook deploy html"
   ]
  }
 ],
 "metadata": {
  "kernelspec": {
   "display_name": "Python 3",
   "language": "python",
   "name": "python3"
  },
  "language_info": {
   "codemirror_mode": {
    "name": "ipython",
    "version": 3
   },
   "file_extension": ".py",
   "mimetype": "text/x-python",
   "name": "python",
   "nbconvert_exporter": "python",
   "pygments_lexer": "ipython3",
   "version": "3.8.5"
  }
 },
 "nbformat": 4,
 "nbformat_minor": 4
}
