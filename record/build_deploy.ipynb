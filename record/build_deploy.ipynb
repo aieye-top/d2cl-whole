{
 "cells": [
  {
   "cell_type": "code",
   "execution_count": 1,
   "metadata": {},
   "outputs": [
    {
     "output_type": "stream",
     "name": "stdout",
     "text": [
      "/root/d2cl/d2cl\n",
      "[d2lbook:config.py:L12] INFO   Load configure from config.ini\n",
      "[d2lbook:build.py:L131] INFO   1 notebooks are outdated\n",
      "[d2lbook:build.py:L133] INFO   [1] ./_build/github_deploy-git/README.md\n",
      "[d2lbook:build.py:L138] INFO   [1/1, 00:00:00] Evaluating ./_build/github_deploy-git/README.md, save as _build/eval/_build/github_deploy-git/README.ipynb\n",
      "[d2lbook:execute.py:L404] INFO   Executing notebook with kernel: python\n",
      "[d2lbook:build.py:L145] INFO   Finished in 00:00:01\n",
      "[d2lbook:build.py:L49] INFO   === Finished \"d2lbook build eval\" in 00:00:02\n",
      "[d2lbook:build.py:L247] INFO   1 rst files are outdated\n",
      "[d2lbook:build.py:L249] INFO   Convert _build/eval/_build/github_deploy-git/README.ipynb to _build/rst/_build/github_deploy-git/README.rst\n",
      "[d2lbook:build.py:L49] INFO   === Finished \"d2lbook build rst\" in 00:00:02\n",
      "[d2lbook:build.py:L49] INFO   === Finished \"d2lbook build ipynb\" in 00:00:00\n",
      "[d2lbook:build.py:L49] INFO   === Finished \"d2lbook build colab\" in 00:00:00\n",
      "[d2lbook:build.py:L49] INFO   === Finished \"d2lbook build sagemaker\" in 00:00:00\n",
      "\u001b[01mRunning Sphinx v3.4.1\u001b[39;49;00m\n",
      "\u001b[01mloading pickled environment... \u001b[39;49;00mdone\n",
      "\u001b[01mbuilding [mo]: \u001b[39;49;00mtargets for 0 po files that are out of date\n",
      "\u001b[01mbuilding [html]: \u001b[39;49;00mtargets for 0 source files that are out of date\n",
      "\u001b[01mupdating environment: \u001b[39;49;00m0 added, 0 changed, 0 removed\n",
      "\u001b[01mlooking for now-outdated files... \u001b[39;49;00mnone found\n",
      "\u001b[01mno targets are out of date.\u001b[39;49;00m\n",
      "\u001b[01mbuild succeeded.\u001b[39;49;00m\n",
      "\n",
      "The HTML pages are in _build/html.\n",
      "[d2lbook:build.py:L49] INFO   === Finished \"d2lbook build html\" in 00:00:04\n"
     ]
    }
   ],
   "source": [
    "!cd ../d2cl/;pwd;d2lbook build html"
   ]
  },
  {
   "cell_type": "code",
   "execution_count": 2,
   "metadata": {},
   "outputs": [
    {
     "output_type": "stream",
     "name": "stdout",
     "text": [
      "/root/d2cl/d2cl\n",
      "[d2lbook:config.py:L12] INFO   Load configure from config.ini\n",
      "Cloning into '/root/d2cl/d2cl/_build/github_deploy-git'...\n",
      "remote: Enumerating objects: 586, done.\u001b[K\n",
      "remote: Counting objects: 100% (586/586), done.\u001b[K\n",
      "remote: Compressing objects: 100% (187/187), done.\u001b[K\n",
      "remote: Total 586 (delta 424), reused 536 (delta 378), pack-reused 0\u001b[K\n",
      "Receiving objects: 100% (586/586), 2.60 MiB | 1.18 MiB/s, done.\n",
      "Resolving deltas: 100% (424/424), done.\n",
      "Everything up-to-date\n"
     ]
    }
   ],
   "source": [
    "!cd ../d2cl/;pwd;d2lbook deploy html"
   ]
  }
 ],
 "metadata": {
  "kernelspec": {
   "name": "python3",
   "display_name": "Python 3.8.5 64-bit ('d2l': conda)",
   "metadata": {
    "interpreter": {
     "hash": "766b6ad58eb83dbbf38bbf1a69b37249a5455d5a1e9dd08caa2512810ec5ca37"
    }
   }
  },
  "language_info": {
   "codemirror_mode": {
    "name": "ipython",
    "version": 3
   },
   "file_extension": ".py",
   "mimetype": "text/x-python",
   "name": "python",
   "nbconvert_exporter": "python",
   "pygments_lexer": "ipython3",
   "version": "3.8.5-final"
  }
 },
 "nbformat": 4,
 "nbformat_minor": 4
}