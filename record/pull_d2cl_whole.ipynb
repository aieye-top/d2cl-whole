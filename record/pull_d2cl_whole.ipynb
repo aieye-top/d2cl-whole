{
 "cells": [
  {
   "cell_type": "code",
   "execution_count": 1,
   "metadata": {},
   "outputs": [
    {
     "name": "stdout",
     "output_type": "stream",
     "text": [
      "/root/d2cl/d2cl\n",
      "remote: Enumerating objects: 8, done.\u001b[K\n",
      "remote: Counting objects: 100% (8/8), done.\u001b[K\n",
      "remote: Compressing objects: 100% (4/4), done.\u001b[K\n",
      "remote: Total 5 (delta 1), reused 5 (delta 1), pack-reused 0\u001b[K\n",
      "Unpacking objects: 100% (5/5), done.\n",
      "From https://github.com/aieye-top/d2cl-whole\n",
      " * branch            HEAD       -> FETCH_HEAD\n",
      "Updating fa58ae9..5372fdf\n",
      "Fast-forward\n",
      " d2cl/chapter_lightweight/mobilenet.md | 310 \u001b[32m++++++++++++++++++++++++++++++++++\u001b[m\n",
      " 1 file changed, 310 insertions(+)\n",
      " create mode 100644 d2cl/chapter_lightweight/mobilenet.md\n"
     ]
    }
   ],
   "source": [
    "!cd ../d2cl/;pwd;git pull https://github.com/aieye-top/d2cl-whole.git"
   ]
  }
 ],
 "metadata": {
  "kernelspec": {
   "display_name": "Python 3",
   "language": "python",
   "name": "python3"
  },
  "language_info": {
   "codemirror_mode": {
    "name": "ipython",
    "version": 3
   },
   "file_extension": ".py",
   "mimetype": "text/x-python",
   "name": "python",
   "nbconvert_exporter": "python",
   "pygments_lexer": "ipython3",
   "version": "3.8.5"
  }
 },
 "nbformat": 4,
 "nbformat_minor": 4
}
