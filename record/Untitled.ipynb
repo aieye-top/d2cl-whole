{
 "cells": [
  {
   "cell_type": "code",
   "execution_count": null,
   "metadata": {},
   "outputs": [],
   "source": [
    "!mkdir -p d2cl-new"
   ]
  },
  {
   "cell_type": "code",
   "execution_count": null,
   "metadata": {},
   "outputs": [],
   "source": [
    "%%writefile d2cl/config.ini\n",
    "[project]\n",
    "name = d2cl-new\n",
    "\n",
    "[html]\n",
    "header_links = PDF, https://aieye-top.github.io/d2cl-new/d2cl.pdf, fas fa-file-pdf\n",
    "\n",
    "[deploy]\n",
    "github_repo = aieye-top/d2cl-new/docs"
   ]
  }
 ],
 "metadata": {
  "kernelspec": {
   "display_name": "Python 3",
   "language": "python",
   "name": "python3"
  },
  "language_info": {
   "codemirror_mode": {
    "name": "ipython",
    "version": 3
   },
   "file_extension": ".py",
   "mimetype": "text/x-python",
   "name": "python",
   "nbconvert_exporter": "python",
   "pygments_lexer": "ipython3",
   "version": "3.8.5"
  }
 },
 "nbformat": 4,
 "nbformat_minor": 4
}
