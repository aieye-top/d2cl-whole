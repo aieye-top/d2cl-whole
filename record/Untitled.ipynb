{
 "cells": [
  {
   "cell_type": "code",
   "execution_count": 1,
   "metadata": {},
   "outputs": [
    {
     "name": "stdout",
     "output_type": "stream",
     "text": [
      "/root/d2cl\n",
      "Reinitialized existing Git repository in /root/d2cl/.git/\n",
      "[main 5f55586] first commit\n",
      " 3 files changed, 57 insertions(+), 2 deletions(-)\n",
      " create mode 100644 record/.ipynb_checkpoints/Untitled-checkpoint.ipynb\n",
      " create mode 100644 record/Untitled.ipynb\n",
      "fatal: remote origin already exists.\n"
     ]
    }
   ],
   "source": [
    "!cd ../;pwd;git init;git add .;git commit -m \"first commit\";git branch -M main;git remote add origin https://github.com/aieye-top/d2cl-whole.git"
   ]
  },
  {
   "cell_type": "code",
   "execution_count": null,
   "metadata": {},
   "outputs": [],
   "source": [
    "!cd ../;pwd;git init;git add .;git commit -m \"first commit\";git branch -M main;git remote add origin https://github.com/aieye-top/d2cl-whole.git;"
   ]
  }
 ],
 "metadata": {
  "kernelspec": {
   "display_name": "Python 3",
   "language": "python",
   "name": "python3"
  },
  "language_info": {
   "codemirror_mode": {
    "name": "ipython",
    "version": 3
   },
   "file_extension": ".py",
   "mimetype": "text/x-python",
   "name": "python",
   "nbconvert_exporter": "python",
   "pygments_lexer": "ipython3",
   "version": "3.8.5"
  }
 },
 "nbformat": 4,
 "nbformat_minor": 4
}
