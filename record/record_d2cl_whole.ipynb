{
 "cells": [
  {
   "cell_type": "code",
   "execution_count": 1,
   "metadata": {},
   "outputs": [
    {
     "name": "stdout",
     "output_type": "stream",
     "text": [
      "/root/d2cl\n",
      "Reinitialized existing Git repository in /root/d2cl/.git/\n",
      "[main 5f55586] first commit\n",
      " 3 files changed, 57 insertions(+), 2 deletions(-)\n",
      " create mode 100644 record/.ipynb_checkpoints/Untitled-checkpoint.ipynb\n",
      " create mode 100644 record/Untitled.ipynb\n",
      "fatal: remote origin already exists.\n"
     ]
    }
   ],
   "source": [
    "!cd ../;pwd;git init;git add .;git commit -m \"first commit\";git branch -M main;git remote add origin https://github.com/aieye-top/d2cl-whole.git"
   ]
  },
  {
   "cell_type": "code",
   "execution_count": 2,
   "metadata": {},
   "outputs": [
    {
     "name": "stdout",
     "output_type": "stream",
     "text": [
      "/root/d2cl\n",
      "Reinitialized existing Git repository in /root/d2cl/.git/\n",
      "[main 4eff220] first commit\n",
      " 1 file changed, 53 insertions(+), 2 deletions(-)\n",
      "fatal: remote origin already exists.\n",
      "Username for 'https://github.com': ^C\n"
     ]
    }
   ],
   "source": [
    "!cd ../;pwd;git init;git add .;git commit -m \"first commit\";git branch -M main;git remote add origin https://github.com/aieye-top/d2cl-whole.git;git push -u origin main"
   ]
  },
  {
   "cell_type": "code",
   "execution_count": 3,
   "metadata": {},
   "outputs": [
    {
     "name": "stdout",
     "output_type": "stream",
     "text": [
      "/root/d2cl\n",
      "Reinitialized existing Git repository in /root/d2cl/.git/\n",
      "[main e2d707d] first commit\n",
      " 1 file changed, 15 insertions(+), 2 deletions(-)\n",
      "Counting objects: 451, done.\n",
      "Delta compression using up to 2 threads.\n",
      "Compressing objects: 100% (426/426), done.\n",
      "Writing objects: 100% (451/451), 2.58 MiB | 616.00 KiB/s, done.\n",
      "Total 451 (delta 322), reused 0 (delta 0)\n",
      "remote: Resolving deltas: 100% (322/322), done.\u001b[K\n",
      "To github.com:aieye-top/d2cl-whole.git\n",
      " * [new branch]      main -> main\n",
      "Branch main set up to track remote branch main from origin.\n"
     ]
    }
   ],
   "source": [
    "!cd ../;pwd;git init;git add .;git commit -m \"first commit\";git branch -M main;git remote set-url origin git@github.com:aieye-top/d2cl-whole.git;git push -u origin main"
   ]
  },
  {
   "cell_type": "code",
   "execution_count": null,
   "metadata": {},
   "outputs": [],
   "source": [
    "git push -u origin main"
   ]
  }
 ],
 "metadata": {
  "kernelspec": {
   "display_name": "Python 3",
   "language": "python",
   "name": "python3"
  },
  "language_info": {
   "codemirror_mode": {
    "name": "ipython",
    "version": 3
   },
   "file_extension": ".py",
   "mimetype": "text/x-python",
   "name": "python",
   "nbconvert_exporter": "python",
   "pygments_lexer": "ipython3",
   "version": "3.8.5"
  }
 },
 "nbformat": 4,
 "nbformat_minor": 4
}
