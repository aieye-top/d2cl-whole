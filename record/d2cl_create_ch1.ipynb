{
 "cells": [
  {
   "cell_type": "code",
   "execution_count": 1,
   "metadata": {},
   "outputs": [
    {
     "name": "stdout",
     "output_type": "stream",
     "text": [
      "/root/d2cl/d2cl\r\n"
     ]
    }
   ],
   "source": [
    "!cd ../d2cl/;pwd"
   ]
  },
  {
   "cell_type": "code",
   "execution_count": 2,
   "metadata": {},
   "outputs": [
    {
     "name": "stdout",
     "output_type": "stream",
     "text": [
      "[d2lbook:config.py:L12] INFO   Load configure from config.ini\n",
      "[d2lbook:build.py:L131] INFO   1 notebooks are outdated\n",
      "[d2lbook:build.py:L133] INFO   [1] ./ch1/index.md\n",
      "[d2lbook:build.py:L138] INFO   [1/1, 00:00:00] Evaluating ./ch1/index.md, save as _build/eval/ch1/index.ipynb\n",
      "[d2lbook:execute.py:L404] INFO   Executing notebook with kernel: python\n",
      "[d2lbook:build.py:L145] INFO   Finished in 00:00:03\n",
      "[d2lbook:build.py:L49] INFO   === Finished \"d2lbook build eval\" in 00:00:03\n",
      "[d2lbook:build.py:L247] INFO   1 rst files are outdated\n",
      "[d2lbook:build.py:L249] INFO   Convert _build/eval/ch1/index.ipynb to _build/rst/ch1/index.rst\n",
      "[d2lbook:build.py:L49] INFO   === Finished \"d2lbook build rst\" in 00:00:03\n",
      "[d2lbook:build.py:L49] INFO   === Finished \"d2lbook build ipynb\" in 00:00:00\n",
      "[d2lbook:build.py:L49] INFO   === Finished \"d2lbook build colab\" in 00:00:00\n",
      "[d2lbook:build.py:L49] INFO   === Finished \"d2lbook build sagemaker\" in 00:00:00\n",
      "\u001b[01mRunning Sphinx v3.4.1\u001b[39;49;00m\n",
      "/root/d2cl/d2cl/_build/rst/conf.py:104: RemovedInSphinx40Warning: The app.add_javascript() is deprecated. Please use app.add_js_file() instead.\n",
      "  app.add_javascript('d2l.js')\n",
      "/root/d2cl/d2cl/_build/rst/conf.py:105: RemovedInSphinx40Warning: The app.add_stylesheet() is deprecated. Please use app.add_css_file() instead.\n",
      "  app.add_stylesheet('d2l.css')\n",
      "\u001b[01mloading pickled environment... \u001b[39;49;00mfailed\n",
      "failed: source directory has changed\n",
      "\u001b[01mbuilding [mo]: \u001b[39;49;00mtargets for 0 po files that are out of date\n",
      "\u001b[01mbuilding [html]: \u001b[39;49;00mtargets for 3 source files that are out of date\n",
      "\u001b[01mupdating environment: \u001b[39;49;00m[new config] 3 added, 0 changed, 0 removed\n",
      "\u001b[01mreading sources... \u001b[39;49;00m[100%] \u001b[35mindex\u001b[39;49;00m                                                 \n",
      "\u001b[01mlooking for now-outdated files... \u001b[39;49;00mnone found\n",
      "\u001b[01mpickling environment... \u001b[39;49;00mdone\n",
      "\u001b[01mchecking consistency... \u001b[39;49;00m\u001b[91m/root/d2cl/d2cl/_build/rst/ch1/index.rst: WARNING: document isn't included in any toctree\u001b[39;49;00m\n",
      "done\n",
      "\u001b[01mpreparing documents... \u001b[39;49;00mdone\n",
      "\u001b[01mwriting output... \u001b[39;49;00m[100%] \u001b[32mindex\u001b[39;49;00m                                                  \n",
      "\u001b[01mwaiting for workers...\u001b[39;49;00m\n",
      "\u001b[01mgenerating indices... \u001b[39;49;00mgenindex done\n",
      "\u001b[01mwriting additional pages... \u001b[39;49;00msearch done\n",
      "\u001b[01mcopying static files... \u001b[39;49;00mdone\n",
      "\u001b[01mcopying extra files... \u001b[39;49;00mdone\n",
      "\u001b[01mdumping search index in English (code: en)... \u001b[39;49;00mdone\n",
      "\u001b[01mdumping object inventory... \u001b[39;49;00mdone\n",
      "\u001b[01mbuild succeeded, 1 warning.\u001b[39;49;00m\n",
      "\n",
      "The HTML pages are in _build/html.\n",
      "[d2lbook:build.py:L49] INFO   === Finished \"d2lbook build html\" in 00:00:05\n"
     ]
    }
   ],
   "source": [
    "!cd ../d2cl;d2lbook build html\n"
   ]
  },
  {
   "cell_type": "code",
   "execution_count": 3,
   "metadata": {},
   "outputs": [
    {
     "name": "stdout",
     "output_type": "stream",
     "text": [
      "[d2lbook:config.py:L12] INFO   Load configure from config.ini\n",
      "Cloning into '/root/d2cl/d2cl/_build/github_deploy-git'...\n",
      "remote: Enumerating objects: 379, done.\u001b[K\n",
      "remote: Counting objects: 100% (379/379), done.\u001b[K\n",
      "remote: Compressing objects: 100% (79/79), done.\u001b[K\n",
      "remote: Total 379 (delta 300), reused 370 (delta 295), pack-reused 0\u001b[K\n",
      "Receiving objects: 100% (379/379), 2.55 MiB | 0 bytes/s, done.\n",
      "Resolving deltas: 100% (300/300), done.\n",
      "[master 4b49570] Version 0.0.1\n",
      " 4 files changed, 153 insertions(+), 2 deletions(-)\n",
      " create mode 100644 _sources/ch1/index.rst.txt\n",
      " create mode 100644 ch1/index.html\n",
      " rewrite searchindex.js (100%)\n",
      "Counting objects: 9, done.\n",
      "Delta compression using up to 2 threads.\n",
      "Compressing objects: 100% (6/6), done.\n",
      "Writing objects: 100% (9/9), 2.42 KiB | 0 bytes/s, done.\n",
      "Total 9 (delta 2), reused 0 (delta 0)\n",
      "remote: Resolving deltas: 100% (2/2), completed with 2 local objects.\u001b[K\n",
      "To github.com:aieye-top/d2cl.git\n",
      "   88c6715..4b49570  master -> master\n"
     ]
    }
   ],
   "source": [
    "!cd ../d2cl; d2lbook deploy html"
   ]
  },
  {
   "cell_type": "markdown",
   "metadata": {},
   "source": [
    "https://github.com/aieye-top/d2cl/commit/4b49570b8802cae1f73bfe13911103f63659adda"
   ]
  },
  {
   "cell_type": "code",
   "execution_count": 4,
   "metadata": {},
   "outputs": [
    {
     "name": "stdout",
     "output_type": "stream",
     "text": [
      "Overwriting ../d2cl/index.md\n"
     ]
    }
   ],
   "source": [
    "%%writefile ../d2cl/index.md\n",
    "# Deploying Demo for d2cl\n",
    "\n",
    "This is a demo to deploy on Github.\n",
    "\n",
    "````toc\n",
    "get_started\n",
    "ch1\n",
    "````"
   ]
  },
  {
   "cell_type": "code",
   "execution_count": 5,
   "metadata": {},
   "outputs": [
    {
     "name": "stdout",
     "output_type": "stream",
     "text": [
      "[d2lbook:config.py:L12] INFO   Load configure from config.ini\n",
      "[d2lbook:build.py:L131] INFO   2 notebooks are outdated\n",
      "[d2lbook:build.py:L133] INFO   [1] ./index.md\n",
      "[d2lbook:build.py:L133] INFO   [2] ./_build/github_deploy-git/README.md\n",
      "[d2lbook:build.py:L138] INFO   [1/2, 00:00:00] Evaluating ./index.md, save as _build/eval/index.ipynb\n",
      "[d2lbook:execute.py:L404] INFO   Executing notebook with kernel: python\n",
      "[d2lbook:build.py:L145] INFO   Finished in 00:00:02\n",
      "[d2lbook:build.py:L138] INFO   [2/2, 00:00:02] Evaluating ./_build/github_deploy-git/README.md, save as _build/eval/_build/github_deploy-git/README.ipynb\n",
      "[d2lbook:execute.py:L404] INFO   Executing notebook with kernel: python\n",
      "[d2lbook:build.py:L145] INFO   Finished in 00:00:02\n",
      "[d2lbook:build.py:L49] INFO   === Finished \"d2lbook build eval\" in 00:00:04\n",
      "[d2lbook:build.py:L247] INFO   2 rst files are outdated\n",
      "[d2lbook:build.py:L249] INFO   Convert _build/eval/index.ipynb to _build/rst/index.rst\n",
      "[d2lbook:build.py:L249] INFO   Convert _build/eval/_build/github_deploy-git/README.ipynb to _build/rst/_build/github_deploy-git/README.rst\n",
      "[d2lbook:build.py:L49] INFO   === Finished \"d2lbook build rst\" in 00:00:05\n",
      "[d2lbook:build.py:L49] INFO   === Finished \"d2lbook build ipynb\" in 00:00:00\n",
      "[d2lbook:build.py:L49] INFO   === Finished \"d2lbook build colab\" in 00:00:00\n",
      "[d2lbook:build.py:L49] INFO   === Finished \"d2lbook build sagemaker\" in 00:00:00\n",
      "\u001b[01mRunning Sphinx v3.4.1\u001b[39;49;00m\n",
      "/root/d2cl/d2cl/_build/rst/conf.py:104: RemovedInSphinx40Warning: The app.add_javascript() is deprecated. Please use app.add_js_file() instead.\n",
      "  app.add_javascript('d2l.js')\n",
      "/root/d2cl/d2cl/_build/rst/conf.py:105: RemovedInSphinx40Warning: The app.add_stylesheet() is deprecated. Please use app.add_css_file() instead.\n",
      "  app.add_stylesheet('d2l.css')\n",
      "\u001b[01mloading pickled environment... \u001b[39;49;00mdone\n",
      "\u001b[01mbuilding [mo]: \u001b[39;49;00mtargets for 0 po files that are out of date\n",
      "\u001b[01mbuilding [html]: \u001b[39;49;00mtargets for 1 source files that are out of date\n",
      "\u001b[01mupdating environment: \u001b[39;49;00m0 added, 1 changed, 0 removed\n",
      "\u001b[01mreading sources... \u001b[39;49;00m[100%] \u001b[35mindex\u001b[39;49;00m                                                 \n",
      "\u001b[91m/root/d2cl/d2cl/_build/rst/index.rst:7: WARNING: toctree contains reference to nonexisting document 'ch1'\u001b[39;49;00m\n",
      "\u001b[01mlooking for now-outdated files... \u001b[39;49;00mnone found\n",
      "\u001b[01mpickling environment... \u001b[39;49;00mdone\n",
      "\u001b[01mchecking consistency... \u001b[39;49;00m\u001b[91m/root/d2cl/d2cl/_build/rst/ch1/index.rst: WARNING: document isn't included in any toctree\u001b[39;49;00m\n",
      "done\n",
      "\u001b[01mpreparing documents... \u001b[39;49;00mdone\n",
      "\u001b[01mwaiting for workers...\u001b[39;49;00m\n",
      "\u001b[01mgenerating indices... \u001b[39;49;00mgenindex done\n",
      "\u001b[01mwriting additional pages... \u001b[39;49;00msearch done\n",
      "\u001b[01mcopying static files... \u001b[39;49;00mdone\n",
      "\u001b[01mcopying extra files... \u001b[39;49;00mdone\n",
      "\u001b[01mdumping search index in English (code: en)... \u001b[39;49;00mdone\n",
      "\u001b[01mdumping object inventory... \u001b[39;49;00mdone\n",
      "\u001b[01mbuild succeeded, 2 warnings.\u001b[39;49;00m\n",
      "\n",
      "The HTML pages are in _build/html.\n",
      "[d2lbook:build.py:L49] INFO   === Finished \"d2lbook build html\" in 00:00:07\n"
     ]
    }
   ],
   "source": [
    "!cd ../d2cl;d2lbook build html"
   ]
  },
  {
   "cell_type": "code",
   "execution_count": 7,
   "metadata": {},
   "outputs": [
    {
     "name": "stdout",
     "output_type": "stream",
     "text": [
      "[d2lbook:config.py:L12] INFO   Load configure from config.ini\n",
      "Cloning into '/root/d2cl/d2cl/_build/github_deploy-git'...\n",
      "remote: Enumerating objects: 392, done.\u001b[K\n",
      "remote: Counting objects: 100% (392/392), done.\u001b[K\n",
      "remote: Compressing objects: 100% (84/84), done.\u001b[K\n",
      "remote: Total 392 (delta 307), reused 381 (delta 300), pack-reused 0\u001b[K\n",
      "Receiving objects: 100% (392/392), 2.56 MiB | 4.13 MiB/s, done.\n",
      "Resolving deltas: 100% (307/307), done.\n",
      "Everything up-to-date\n"
     ]
    }
   ],
   "source": [
    "!cd ../d2cl;d2lbook deploy html"
   ]
  },
  {
   "cell_type": "markdown",
   "metadata": {},
   "source": [
    "上面不小心运行两次，https://github.com/aieye-top/d2cl/commit/ed127d552dc2f2ebc1a5697283276e8c36025a4d"
   ]
  },
  {
   "cell_type": "code",
   "execution_count": 8,
   "metadata": {},
   "outputs": [
    {
     "name": "stdout",
     "output_type": "stream",
     "text": [
      "Overwriting ../d2cl/index.md\n"
     ]
    }
   ],
   "source": [
    "%%writefile ../d2cl/index.md\n",
    "# Deploying Demo for d2cl\n",
    "\n",
    "This is a demo to deploy on Github.\n",
    "\n",
    "````toc\n",
    ":maxdepth: 1\n",
    "\n",
    "get_started\n",
    "````\n",
    "\n",
    "```toc\n",
    ":maxdepth: 2\n",
    ":numbered:\n",
    "        \n",
    "ch1/index"
   ]
  },
  {
   "cell_type": "code",
   "execution_count": 9,
   "metadata": {},
   "outputs": [
    {
     "name": "stdout",
     "output_type": "stream",
     "text": [
      "[d2lbook:config.py:L12] INFO   Load configure from config.ini\n",
      "[d2lbook:build.py:L131] INFO   2 notebooks are outdated\n",
      "[d2lbook:build.py:L133] INFO   [1] ./_build/github_deploy-git/README.md\n",
      "[d2lbook:build.py:L133] INFO   [2] ./index.md\n",
      "[d2lbook:build.py:L138] INFO   [1/2, 00:00:00] Evaluating ./_build/github_deploy-git/README.md, save as _build/eval/_build/github_deploy-git/README.ipynb\n",
      "[d2lbook:execute.py:L404] INFO   Executing notebook with kernel: python\n",
      "[d2lbook:build.py:L145] INFO   Finished in 00:00:02\n",
      "[d2lbook:build.py:L138] INFO   [2/2, 00:00:02] Evaluating ./index.md, save as _build/eval/index.ipynb\n",
      "[d2lbook:execute.py:L404] INFO   Executing notebook with kernel: python\n",
      "[d2lbook:build.py:L145] INFO   Finished in 00:00:01\n",
      "[d2lbook:build.py:L49] INFO   === Finished \"d2lbook build eval\" in 00:00:04\n",
      "[d2lbook:build.py:L247] INFO   2 rst files are outdated\n",
      "[d2lbook:build.py:L249] INFO   Convert _build/eval/index.ipynb to _build/rst/index.rst\n",
      "[d2lbook:build.py:L249] INFO   Convert _build/eval/_build/github_deploy-git/README.ipynb to _build/rst/_build/github_deploy-git/README.rst\n",
      "[d2lbook:build.py:L49] INFO   === Finished \"d2lbook build rst\" in 00:00:05\n",
      "[d2lbook:build.py:L49] INFO   === Finished \"d2lbook build ipynb\" in 00:00:00\n",
      "[d2lbook:build.py:L49] INFO   === Finished \"d2lbook build colab\" in 00:00:00\n",
      "[d2lbook:build.py:L49] INFO   === Finished \"d2lbook build sagemaker\" in 00:00:00\n",
      "\u001b[01mRunning Sphinx v3.4.1\u001b[39;49;00m\n",
      "/root/d2cl/d2cl/_build/rst/conf.py:104: RemovedInSphinx40Warning: The app.add_javascript() is deprecated. Please use app.add_js_file() instead.\n",
      "  app.add_javascript('d2l.js')\n",
      "/root/d2cl/d2cl/_build/rst/conf.py:105: RemovedInSphinx40Warning: The app.add_stylesheet() is deprecated. Please use app.add_css_file() instead.\n",
      "  app.add_stylesheet('d2l.css')\n",
      "\u001b[01mloading pickled environment... \u001b[39;49;00mdone\n",
      "\u001b[01mbuilding [mo]: \u001b[39;49;00mtargets for 0 po files that are out of date\n",
      "\u001b[01mbuilding [html]: \u001b[39;49;00mtargets for 1 source files that are out of date\n",
      "\u001b[01mupdating environment: \u001b[39;49;00m0 added, 1 changed, 0 removed\n",
      "\u001b[01mreading sources... \u001b[39;49;00m[100%] \u001b[35mindex\u001b[39;49;00m                                                 \n",
      "\u001b[01mlooking for now-outdated files... \u001b[39;49;00m1 found\n",
      "\u001b[01mpickling environment... \u001b[39;49;00mdone\n",
      "\u001b[01mchecking consistency... \u001b[39;49;00mdone\n",
      "\u001b[01mpreparing documents... \u001b[39;49;00mdone\n",
      "\u001b[91m/root/d2cl/d2cl/_build/rst/index.rst:12: WARNING: toctree contains reference to document 'ch1/index' that doesn't have a title: no link will be generated\u001b[39;49;00m\n",
      "\u001b[91m/root/d2cl/d2cl/_build/rst/index.rst:12: WARNING: toctree contains reference to document 'ch1/index' that doesn't have a title: no link will be generated\u001b[39;49;00m\n",
      "\u001b[91m/root/d2cl/d2cl/_build/rst/index.rst:12: WARNING: toctree contains reference to document 'ch1/index' that doesn't have a title: no link will be generated\u001b[39;49;00m\n",
      "\n",
      "\u001b[01mwaiting for workers...\u001b[39;49;00m\n",
      "\u001b[91m/root/d2cl/d2cl/_build/rst/index.rst:12: WARNING: toctree contains reference to document 'ch1/index' that doesn't have a title: no link will be generated\u001b[39;49;00m\n",
      "\u001b[91m/root/d2cl/d2cl/_build/rst/index.rst:12: WARNING: toctree contains reference to document 'ch1/index' that doesn't have a title: no link will be generated\u001b[39;49;00m\n",
      "\u001b[01mgenerating indices... \u001b[39;49;00mgenindex \u001b[91m/root/d2cl/d2cl/_build/rst/index.rst:12: WARNING: toctree contains reference to document 'ch1/index' that doesn't have a title: no link will be generated\u001b[39;49;00m\n",
      "\u001b[91m/root/d2cl/d2cl/_build/rst/index.rst:12: WARNING: toctree contains reference to document 'ch1/index' that doesn't have a title: no link will be generated\u001b[39;49;00m\n",
      "done\n",
      "\u001b[01mwriting additional pages... \u001b[39;49;00msearch \u001b[91m/root/d2cl/d2cl/_build/rst/index.rst:12: WARNING: toctree contains reference to document 'ch1/index' that doesn't have a title: no link will be generated\u001b[39;49;00m\n",
      "\u001b[91m/root/d2cl/d2cl/_build/rst/index.rst:12: WARNING: toctree contains reference to document 'ch1/index' that doesn't have a title: no link will be generated\u001b[39;49;00m\n",
      "done\n",
      "\u001b[01mcopying static files... \u001b[39;49;00mdone\n",
      "\u001b[01mcopying extra files... \u001b[39;49;00mdone\n",
      "\u001b[01mdumping search index in English (code: en)... \u001b[39;49;00mdone\n",
      "\u001b[01mdumping object inventory... \u001b[39;49;00mdone\n",
      "\u001b[01mbuild succeeded, 9 warnings.\u001b[39;49;00m\n",
      "\n",
      "The HTML pages are in _build/html.\n",
      "[d2lbook:build.py:L49] INFO   === Finished \"d2lbook build html\" in 00:00:08\n"
     ]
    }
   ],
   "source": [
    "!cd ../d2cl;d2lbook build html"
   ]
  },
  {
   "cell_type": "code",
   "execution_count": 10,
   "metadata": {},
   "outputs": [
    {
     "name": "stdout",
     "output_type": "stream",
     "text": [
      "[d2lbook:config.py:L12] INFO   Load configure from config.ini\n",
      "Cloning into '/root/d2cl/d2cl/_build/github_deploy-git'...\n",
      "remote: Enumerating objects: 392, done.\u001b[K\n",
      "remote: Counting objects: 100% (392/392), done.\u001b[K\n",
      "remote: Compressing objects: 100% (84/84), done.\u001b[K\n",
      "remote: Total 392 (delta 307), reused 381 (delta 300), pack-reused 0\u001b[K\n",
      "Receiving objects: 100% (392/392), 2.56 MiB | 0 bytes/s, done.\n",
      "Resolving deltas: 100% (307/307), done.\n",
      "[master 7833683] Version 0.0.1\n",
      " 3 files changed, 19 insertions(+), 2 deletions(-)\n",
      "Counting objects: 7, done.\n",
      "Delta compression using up to 2 threads.\n",
      "Compressing objects: 100% (6/6), done.\n",
      "Writing objects: 100% (7/7), 863 bytes | 0 bytes/s, done.\n",
      "Total 7 (delta 4), reused 0 (delta 0)\n",
      "remote: Resolving deltas: 100% (4/4), completed with 4 local objects.\u001b[K\n",
      "To github.com:aieye-top/d2cl.git\n",
      "   ed127d5..7833683  master -> master\n"
     ]
    }
   ],
   "source": [
    "!cd ../d2cl;d2lbook deploy html"
   ]
  },
  {
   "cell_type": "markdown",
   "metadata": {},
   "source": [
    "https://github.com/aieye-top/d2cl/commit/78336835b1495fbb2dc2e3a2cb917d19232562e9\n",
    "还是不行。。\n",
    "试试重命名。。"
   ]
  },
  {
   "cell_type": "code",
   "execution_count": 11,
   "metadata": {},
   "outputs": [
    {
     "name": "stdout",
     "output_type": "stream",
     "text": [
      "/bin/bash: line 0: cd: too many arguments\r\n",
      "d2cl_create_ch1.ipynb  d2cl_create.ipynb  d2cl_gitdownload.ipynb  untitled.txt\r\n"
     ]
    }
   ],
   "source": [
    "!cd ../d2cl；mv ch1 chapter_introduction;ls"
   ]
  },
  {
   "cell_type": "code",
   "execution_count": 12,
   "metadata": {},
   "outputs": [
    {
     "name": "stdout",
     "output_type": "stream",
     "text": [
      "_build\tchapter_introduction  config.ini  get_started.md  index.md\r\n"
     ]
    }
   ],
   "source": [
    "!cd ../d2cl;mv ch1 chapter_introduction;ls"
   ]
  },
  {
   "cell_type": "code",
   "execution_count": 13,
   "metadata": {},
   "outputs": [
    {
     "name": "stdout",
     "output_type": "stream",
     "text": [
      "[d2lbook:config.py:L12] INFO   Load configure from config.ini\n",
      "[d2lbook:build.py:L131] INFO   2 notebooks are outdated\n",
      "[d2lbook:build.py:L133] INFO   [1] ./_build/github_deploy-git/README.md\n",
      "[d2lbook:build.py:L133] INFO   [2] ./chapter_introduction/index.md\n",
      "[d2lbook:build.py:L138] INFO   [1/2, 00:00:00] Evaluating ./_build/github_deploy-git/README.md, save as _build/eval/_build/github_deploy-git/README.ipynb\n",
      "[d2lbook:execute.py:L404] INFO   Executing notebook with kernel: python\n",
      "[d2lbook:build.py:L145] INFO   Finished in 00:00:02\n",
      "[d2lbook:build.py:L138] INFO   [2/2, 00:00:02] Evaluating ./chapter_introduction/index.md, save as _build/eval/chapter_introduction/index.ipynb\n",
      "[d2lbook:execute.py:L404] INFO   Executing notebook with kernel: python\n",
      "[d2lbook:build.py:L145] INFO   Finished in 00:00:02\n",
      "[d2lbook:build.py:L170] INFO   Cleaning target files whose corresponding source files are removed (individual data files are hidden, e.g., _build/eval/data/VOC/A/B/C -> _build/eval/data/VOC\n",
      "[d2lbook:build.py:L174] INFO   Cleaning target files: _build/eval/ch1/index.ipynb\n",
      "[d2lbook:build.py:L181] INFO   Cleaned empty directories: _build/eval/ch1\n",
      "[d2lbook:build.py:L49] INFO   === Finished \"d2lbook build eval\" in 00:00:04\n",
      "[d2lbook:build.py:L247] INFO   2 rst files are outdated\n",
      "[d2lbook:build.py:L249] INFO   Convert _build/eval/_build/github_deploy-git/README.ipynb to _build/rst/_build/github_deploy-git/README.rst\n",
      "[d2lbook:build.py:L249] INFO   Convert _build/eval/chapter_introduction/index.ipynb to _build/rst/chapter_introduction/index.rst\n",
      "[d2lbook:build.py:L170] INFO   Cleaning target files whose corresponding source files are removed (individual data files are hidden, e.g., _build/eval/data/VOC/A/B/C -> _build/eval/data/VOC\n",
      "[d2lbook:build.py:L174] INFO   Cleaning target files: _build/rst/ch1/index.rst\n",
      "[d2lbook:build.py:L181] INFO   Cleaned empty directories: _build/rst/ch1\n",
      "[d2lbook:build.py:L49] INFO   === Finished \"d2lbook build rst\" in 00:00:05\n",
      "[d2lbook:build.py:L49] INFO   === Finished \"d2lbook build ipynb\" in 00:00:00\n",
      "[d2lbook:build.py:L49] INFO   === Finished \"d2lbook build colab\" in 00:00:00\n",
      "[d2lbook:build.py:L49] INFO   === Finished \"d2lbook build sagemaker\" in 00:00:00\n",
      "\u001b[01mRunning Sphinx v3.4.1\u001b[39;49;00m\n",
      "/root/d2cl/d2cl/_build/rst/conf.py:104: RemovedInSphinx40Warning: The app.add_javascript() is deprecated. Please use app.add_js_file() instead.\n",
      "  app.add_javascript('d2l.js')\n",
      "/root/d2cl/d2cl/_build/rst/conf.py:105: RemovedInSphinx40Warning: The app.add_stylesheet() is deprecated. Please use app.add_css_file() instead.\n",
      "  app.add_stylesheet('d2l.css')\n",
      "\u001b[01mloading pickled environment... \u001b[39;49;00mdone\n",
      "\u001b[01mbuilding [mo]: \u001b[39;49;00mtargets for 0 po files that are out of date\n",
      "\u001b[01mbuilding [html]: \u001b[39;49;00mtargets for 0 source files that are out of date\n",
      "\u001b[01mupdating environment: \u001b[39;49;00m1 added, 0 changed, 1 removed\n",
      "\u001b[01mreading sources... \u001b[39;49;00m[100%] \u001b[35mchapter_introduction/index\u001b[39;49;00m                            \n",
      "\u001b[01mlooking for now-outdated files... \u001b[39;49;00mnone found\n",
      "\u001b[01mpickling environment... \u001b[39;49;00mdone\n",
      "\u001b[01mchecking consistency... \u001b[39;49;00m\u001b[91m/root/d2cl/d2cl/_build/rst/chapter_introduction/index.rst: WARNING: document isn't included in any toctree\u001b[39;49;00m\n",
      "done\n",
      "\u001b[01mpreparing documents... \u001b[39;49;00mdone\n",
      "\u001b[91m/root/d2cl/d2cl/_build/rst/index.rst:12: WARNING: toctree contains reference to nonexisting document 'ch1/index'\u001b[39;49;00m\n",
      "\u001b[91m/root/d2cl/d2cl/_build/rst/index.rst:12: WARNING: toctree contains reference to nonexisting document 'ch1/index'\u001b[39;49;00m\n",
      "\u001b[91m/root/d2cl/d2cl/_build/rst/index.rst:12: WARNING: toctree contains reference to nonexisting document 'ch1/index'\u001b[39;49;00m\n",
      "\n",
      "\u001b[01mwaiting for workers...\u001b[39;49;00m\n",
      "\u001b[91m/root/d2cl/d2cl/_build/rst/index.rst:12: WARNING: toctree contains reference to nonexisting document 'ch1/index'\u001b[39;49;00m\n",
      "\u001b[91m/root/d2cl/d2cl/_build/rst/index.rst:12: WARNING: toctree contains reference to nonexisting document 'ch1/index'\u001b[39;49;00m\n",
      "\u001b[01mgenerating indices... \u001b[39;49;00mgenindex \u001b[91m/root/d2cl/d2cl/_build/rst/index.rst:12: WARNING: toctree contains reference to nonexisting document 'ch1/index'\u001b[39;49;00m\n",
      "\u001b[91m/root/d2cl/d2cl/_build/rst/index.rst:12: WARNING: toctree contains reference to nonexisting document 'ch1/index'\u001b[39;49;00m\n",
      "done\n",
      "\u001b[01mwriting additional pages... \u001b[39;49;00msearch \u001b[91m/root/d2cl/d2cl/_build/rst/index.rst:12: WARNING: toctree contains reference to nonexisting document 'ch1/index'\u001b[39;49;00m\n",
      "\u001b[91m/root/d2cl/d2cl/_build/rst/index.rst:12: WARNING: toctree contains reference to nonexisting document 'ch1/index'\u001b[39;49;00m\n",
      "done\n",
      "\u001b[01mcopying static files... \u001b[39;49;00mdone\n",
      "\u001b[01mcopying extra files... \u001b[39;49;00mdone\n",
      "\u001b[01mdumping search index in English (code: en)... \u001b[39;49;00mdone\n",
      "\u001b[01mdumping object inventory... \u001b[39;49;00mdone\n",
      "\u001b[01mbuild succeeded, 10 warnings.\u001b[39;49;00m\n",
      "\n",
      "The HTML pages are in _build/html.\n",
      "[d2lbook:build.py:L49] INFO   === Finished \"d2lbook build html\" in 00:00:09\n"
     ]
    }
   ],
   "source": [
    "!cd ../d2cl;d2lbook build html"
   ]
  },
  {
   "cell_type": "code",
   "execution_count": 14,
   "metadata": {},
   "outputs": [
    {
     "name": "stdout",
     "output_type": "stream",
     "text": [
      "[d2lbook:config.py:L12] INFO   Load configure from config.ini\n",
      "Cloning into '/root/d2cl/d2cl/_build/github_deploy-git'...\n",
      "remote: Enumerating objects: 399, done.\u001b[K\n",
      "remote: Counting objects: 100% (399/399), done.\u001b[K\n",
      "remote: Compressing objects: 100% (89/89), done.\u001b[K\n",
      "remote: Total 399 (delta 312), reused 384 (delta 301), pack-reused 0\u001b[K\n",
      "Receiving objects: 100% (399/399), 2.56 MiB | 0 bytes/s, done.\n",
      "Resolving deltas: 100% (312/312), done.\n",
      "[master 856e1af] Version 0.0.1\n",
      " 4 files changed, 152 insertions(+), 1 deletion(-)\n",
      " create mode 100644 _sources/chapter_introduction/index.rst.txt\n",
      " create mode 100644 chapter_introduction/index.html\n",
      " rewrite searchindex.js (100%)\n",
      "Counting objects: 7, done.\n",
      "Delta compression using up to 2 threads.\n",
      "Compressing objects: 100% (6/6), done.\n",
      "Writing objects: 100% (7/7), 2.16 KiB | 0 bytes/s, done.\n",
      "Total 7 (delta 3), reused 0 (delta 0)\n",
      "remote: Resolving deltas: 100% (3/3), completed with 3 local objects.\u001b[K\n",
      "To github.com:aieye-top/d2cl.git\n",
      "   7833683..856e1af  master -> master\n"
     ]
    }
   ],
   "source": [
    "!cd ../d2cl;d2lbook deploy html"
   ]
  },
  {
   "cell_type": "markdown",
   "metadata": {},
   "source": [
    "https://github.com/aieye-top/d2cl/commit/856e1af8e5413284775bca7600b134d5506d57e9"
   ]
  },
  {
   "cell_type": "code",
   "execution_count": 15,
   "metadata": {},
   "outputs": [
    {
     "name": "stdout",
     "output_type": "stream",
     "text": [
      "Overwriting ../d2cl/index.md\n"
     ]
    }
   ],
   "source": [
    "%%writefile ../d2cl/index.md\n",
    "# Deploying Demo for d2cl\n",
    "\n",
    "This is a demo to deploy on Github.\n",
    "\n",
    "````toc\n",
    ":maxdepth: 1\n",
    "\n",
    "get_started\n",
    "````\n",
    "\n",
    "```toc\n",
    ":maxdepth: 2\n",
    ":numbered:\n",
    "        \n",
    "chapter_introduction/index"
   ]
  },
  {
   "cell_type": "code",
   "execution_count": 16,
   "metadata": {},
   "outputs": [
    {
     "name": "stdout",
     "output_type": "stream",
     "text": [
      "[d2lbook:config.py:L12] INFO   Load configure from config.ini\n",
      "[d2lbook:build.py:L131] INFO   2 notebooks are outdated\n",
      "[d2lbook:build.py:L133] INFO   [1] ./_build/github_deploy-git/README.md\n",
      "[d2lbook:build.py:L133] INFO   [2] ./index.md\n",
      "[d2lbook:build.py:L138] INFO   [1/2, 00:00:00] Evaluating ./_build/github_deploy-git/README.md, save as _build/eval/_build/github_deploy-git/README.ipynb\n",
      "[d2lbook:execute.py:L404] INFO   Executing notebook with kernel: python\n",
      "[d2lbook:build.py:L145] INFO   Finished in 00:00:02\n",
      "[d2lbook:build.py:L138] INFO   [2/2, 00:00:02] Evaluating ./index.md, save as _build/eval/index.ipynb\n",
      "[d2lbook:execute.py:L404] INFO   Executing notebook with kernel: python\n",
      "[d2lbook:build.py:L145] INFO   Finished in 00:00:01\n",
      "[d2lbook:build.py:L49] INFO   === Finished \"d2lbook build eval\" in 00:00:04\n",
      "[d2lbook:build.py:L247] INFO   2 rst files are outdated\n",
      "[d2lbook:build.py:L249] INFO   Convert _build/eval/index.ipynb to _build/rst/index.rst\n",
      "[d2lbook:build.py:L249] INFO   Convert _build/eval/_build/github_deploy-git/README.ipynb to _build/rst/_build/github_deploy-git/README.rst\n",
      "[d2lbook:build.py:L49] INFO   === Finished \"d2lbook build rst\" in 00:00:04\n",
      "[d2lbook:build.py:L49] INFO   === Finished \"d2lbook build ipynb\" in 00:00:00\n",
      "[d2lbook:build.py:L49] INFO   === Finished \"d2lbook build colab\" in 00:00:00\n",
      "[d2lbook:build.py:L49] INFO   === Finished \"d2lbook build sagemaker\" in 00:00:00\n",
      "\u001b[01mRunning Sphinx v3.4.1\u001b[39;49;00m\n",
      "/root/d2cl/d2cl/_build/rst/conf.py:104: RemovedInSphinx40Warning: The app.add_javascript() is deprecated. Please use app.add_js_file() instead.\n",
      "  app.add_javascript('d2l.js')\n",
      "/root/d2cl/d2cl/_build/rst/conf.py:105: RemovedInSphinx40Warning: The app.add_stylesheet() is deprecated. Please use app.add_css_file() instead.\n",
      "  app.add_stylesheet('d2l.css')\n",
      "\u001b[01mloading pickled environment... \u001b[39;49;00mdone\n",
      "\u001b[01mbuilding [mo]: \u001b[39;49;00mtargets for 0 po files that are out of date\n",
      "\u001b[01mbuilding [html]: \u001b[39;49;00mtargets for 1 source files that are out of date\n",
      "\u001b[01mupdating environment: \u001b[39;49;00m0 added, 1 changed, 0 removed\n",
      "\u001b[01mreading sources... \u001b[39;49;00m[100%] \u001b[35mindex\u001b[39;49;00m                                                 \n",
      "\u001b[01mlooking for now-outdated files... \u001b[39;49;00m1 found\n",
      "\u001b[01mpickling environment... \u001b[39;49;00mdone\n",
      "\u001b[01mchecking consistency... \u001b[39;49;00mdone\n",
      "\u001b[01mpreparing documents... \u001b[39;49;00mdone\n",
      "\u001b[91m/root/d2cl/d2cl/_build/rst/index.rst:12: WARNING: toctree contains reference to document 'chapter_introduction/index' that doesn't have a title: no link will be generated\u001b[39;49;00m\n",
      "\u001b[91m/root/d2cl/d2cl/_build/rst/index.rst:12: WARNING: toctree contains reference to document 'chapter_introduction/index' that doesn't have a title: no link will be generated\u001b[39;49;00m\n",
      "\u001b[91m/root/d2cl/d2cl/_build/rst/index.rst:12: WARNING: toctree contains reference to document 'chapter_introduction/index' that doesn't have a title: no link will be generated\u001b[39;49;00m\n",
      "\n",
      "\u001b[01mwaiting for workers...\u001b[39;49;00m\n",
      "\u001b[91m/root/d2cl/d2cl/_build/rst/index.rst:12: WARNING: toctree contains reference to document 'chapter_introduction/index' that doesn't have a title: no link will be generated\u001b[39;49;00m\n",
      "\u001b[91m/root/d2cl/d2cl/_build/rst/index.rst:12: WARNING: toctree contains reference to document 'chapter_introduction/index' that doesn't have a title: no link will be generated\u001b[39;49;00m\n",
      "\u001b[01mgenerating indices... \u001b[39;49;00mgenindex \u001b[91m/root/d2cl/d2cl/_build/rst/index.rst:12: WARNING: toctree contains reference to document 'chapter_introduction/index' that doesn't have a title: no link will be generated\u001b[39;49;00m\n",
      "\u001b[91m/root/d2cl/d2cl/_build/rst/index.rst:12: WARNING: toctree contains reference to document 'chapter_introduction/index' that doesn't have a title: no link will be generated\u001b[39;49;00m\n",
      "done\n",
      "\u001b[01mwriting additional pages... \u001b[39;49;00msearch \u001b[91m/root/d2cl/d2cl/_build/rst/index.rst:12: WARNING: toctree contains reference to document 'chapter_introduction/index' that doesn't have a title: no link will be generated\u001b[39;49;00m\n",
      "\u001b[91m/root/d2cl/d2cl/_build/rst/index.rst:12: WARNING: toctree contains reference to document 'chapter_introduction/index' that doesn't have a title: no link will be generated\u001b[39;49;00m\n",
      "done\n",
      "\u001b[01mcopying static files... \u001b[39;49;00mdone\n",
      "\u001b[01mcopying extra files... \u001b[39;49;00mdone\n",
      "\u001b[01mdumping search index in English (code: en)... \u001b[39;49;00mdone\n",
      "\u001b[01mdumping object inventory... \u001b[39;49;00mdone\n",
      "\u001b[01mbuild succeeded, 9 warnings.\u001b[39;49;00m\n",
      "\n",
      "The HTML pages are in _build/html.\n",
      "[d2lbook:build.py:L49] INFO   === Finished \"d2lbook build html\" in 00:00:07\n"
     ]
    }
   ],
   "source": [
    "!cd ../d2cl;d2lbook build html"
   ]
  },
  {
   "cell_type": "code",
   "execution_count": 17,
   "metadata": {},
   "outputs": [
    {
     "name": "stdout",
     "output_type": "stream",
     "text": [
      "[d2lbook:config.py:L12] INFO   Load configure from config.ini\n",
      "Cloning into '/root/d2cl/d2cl/_build/github_deploy-git'...\n",
      "remote: Enumerating objects: 406, done.\u001b[K\n",
      "remote: Counting objects: 100% (406/406), done.\u001b[K\n",
      "remote: Compressing objects: 100% (94/94), done.\u001b[K\n",
      "remote: Total 406 (delta 316), reused 388 (delta 302), pack-reused 0\u001b[K\n",
      "Receiving objects: 100% (406/406), 2.56 MiB | 4.88 MiB/s, done.\n",
      "Resolving deltas: 100% (316/316), done.\n",
      "[master f434694] Version 0.0.1\n",
      " 2 files changed, 10 insertions(+), 2 deletions(-)\n",
      "Counting objects: 6, done.\n",
      "Delta compression using up to 2 threads.\n",
      "Compressing objects: 100% (5/5), done.\n",
      "Writing objects: 100% (6/6), 728 bytes | 0 bytes/s, done.\n",
      "Total 6 (delta 4), reused 0 (delta 0)\n",
      "remote: Resolving deltas: 100% (4/4), completed with 4 local objects.\u001b[K\n",
      "To github.com:aieye-top/d2cl.git\n",
      "   856e1af..f434694  master -> master\n"
     ]
    }
   ],
   "source": [
    "!cd ../d2cl;d2lbook deploy html"
   ]
  },
  {
   "cell_type": "code",
   "execution_count": 18,
   "metadata": {},
   "outputs": [
    {
     "name": "stdout",
     "output_type": "stream",
     "text": [
      "Overwriting ../d2cl/chapter_introduction/index.md\n"
     ]
    }
   ],
   "source": [
    "%%writefile ../d2cl/chapter_introduction/index.md\n",
    "\n",
    "# Introduction\n",
    ":label:`chap_introduction`"
   ]
  },
  {
   "cell_type": "code",
   "execution_count": 19,
   "metadata": {},
   "outputs": [
    {
     "name": "stdout",
     "output_type": "stream",
     "text": [
      "[d2lbook:config.py:L12] INFO   Load configure from config.ini\n",
      "[d2lbook:build.py:L131] INFO   2 notebooks are outdated\n",
      "[d2lbook:build.py:L133] INFO   [1] ./_build/github_deploy-git/README.md\n",
      "[d2lbook:build.py:L133] INFO   [2] ./chapter_introduction/index.md\n",
      "[d2lbook:build.py:L138] INFO   [1/2, 00:00:00] Evaluating ./_build/github_deploy-git/README.md, save as _build/eval/_build/github_deploy-git/README.ipynb\n",
      "[d2lbook:execute.py:L404] INFO   Executing notebook with kernel: python\n",
      "[d2lbook:build.py:L145] INFO   Finished in 00:00:02\n",
      "[d2lbook:build.py:L138] INFO   [2/2, 00:00:02] Evaluating ./chapter_introduction/index.md, save as _build/eval/chapter_introduction/index.ipynb\n",
      "[d2lbook:execute.py:L404] INFO   Executing notebook with kernel: python\n",
      "[d2lbook:build.py:L145] INFO   Finished in 00:00:01\n",
      "[d2lbook:build.py:L49] INFO   === Finished \"d2lbook build eval\" in 00:00:04\n",
      "[d2lbook:build.py:L247] INFO   2 rst files are outdated\n",
      "[d2lbook:build.py:L249] INFO   Convert _build/eval/chapter_introduction/index.ipynb to _build/rst/chapter_introduction/index.rst\n",
      "[d2lbook:build.py:L249] INFO   Convert _build/eval/_build/github_deploy-git/README.ipynb to _build/rst/_build/github_deploy-git/README.rst\n",
      "[d2lbook:build.py:L49] INFO   === Finished \"d2lbook build rst\" in 00:00:04\n",
      "[d2lbook:build.py:L49] INFO   === Finished \"d2lbook build ipynb\" in 00:00:00\n",
      "[d2lbook:build.py:L49] INFO   === Finished \"d2lbook build colab\" in 00:00:00\n",
      "[d2lbook:build.py:L49] INFO   === Finished \"d2lbook build sagemaker\" in 00:00:00\n",
      "\u001b[01mRunning Sphinx v3.4.1\u001b[39;49;00m\n",
      "/root/d2cl/d2cl/_build/rst/conf.py:104: RemovedInSphinx40Warning: The app.add_javascript() is deprecated. Please use app.add_js_file() instead.\n",
      "  app.add_javascript('d2l.js')\n",
      "/root/d2cl/d2cl/_build/rst/conf.py:105: RemovedInSphinx40Warning: The app.add_stylesheet() is deprecated. Please use app.add_css_file() instead.\n",
      "  app.add_stylesheet('d2l.css')\n",
      "\u001b[01mloading pickled environment... \u001b[39;49;00mdone\n",
      "\u001b[01mbuilding [mo]: \u001b[39;49;00mtargets for 0 po files that are out of date\n",
      "\u001b[01mbuilding [html]: \u001b[39;49;00mtargets for 1 source files that are out of date\n",
      "\u001b[01mupdating environment: \u001b[39;49;00m0 added, 1 changed, 0 removed\n",
      "\u001b[01mreading sources... \u001b[39;49;00m[100%] \u001b[35mchapter_introduction/index\u001b[39;49;00m                            \n",
      "\u001b[01mlooking for now-outdated files... \u001b[39;49;00mnone found\n",
      "\u001b[01mpickling environment... \u001b[39;49;00mdone\n",
      "\u001b[01mchecking consistency... \u001b[39;49;00mdone\n",
      "\u001b[01mpreparing documents... \u001b[39;49;00mdone\n",
      "\u001b[01mwriting output... \u001b[39;49;00m[100%] \u001b[32mindex\u001b[39;49;00m                                                  \n",
      "\u001b[01mwaiting for workers...\u001b[39;49;00m\n",
      "\u001b[01mgenerating indices... \u001b[39;49;00mgenindex done\n",
      "\u001b[01mwriting additional pages... \u001b[39;49;00msearch done\n",
      "\u001b[01mcopying static files... \u001b[39;49;00mdone\n",
      "\u001b[01mcopying extra files... \u001b[39;49;00mdone\n",
      "\u001b[01mdumping search index in English (code: en)... \u001b[39;49;00mdone\n",
      "\u001b[01mdumping object inventory... \u001b[39;49;00mdone\n",
      "\u001b[01mbuild succeeded.\u001b[39;49;00m\n",
      "\n",
      "The HTML pages are in _build/html.\n",
      "[d2lbook:build.py:L49] INFO   === Finished \"d2lbook build html\" in 00:00:07\n"
     ]
    }
   ],
   "source": [
    "!cd ../d2cl;d2lbook build html"
   ]
  },
  {
   "cell_type": "code",
   "execution_count": 20,
   "metadata": {},
   "outputs": [
    {
     "name": "stdout",
     "output_type": "stream",
     "text": [
      "[d2lbook:config.py:L12] INFO   Load configure from config.ini\n",
      "Cloning into '/root/d2cl/d2cl/_build/github_deploy-git'...\n",
      "remote: Enumerating objects: 412, done.\u001b[K\n",
      "remote: Counting objects: 100% (412/412), done.\u001b[K\n",
      "remote: Compressing objects: 100% (95/95), done.\u001b[K\n",
      "remote: Total 412 (delta 320), reused 394 (delta 306), pack-reused 0\u001b[K\n",
      "Receiving objects: 100% (412/412), 2.56 MiB | 2.19 MiB/s, done.\n",
      "Resolving deltas: 100% (320/320), done.\n",
      "[master 024d8b9] Version 0.0.1\n",
      " 7 files changed, 39 insertions(+), 4 deletions(-)\n",
      "Counting objects: 12, done.\n",
      "Delta compression using up to 2 threads.\n",
      "Compressing objects: 100% (10/10), done.\n",
      "Writing objects: 100% (12/12), 1.79 KiB | 0 bytes/s, done.\n",
      "Total 12 (delta 6), reused 0 (delta 0)\n",
      "remote: Resolving deltas: 100% (6/6), completed with 6 local objects.\u001b[K\n",
      "To github.com:aieye-top/d2cl.git\n",
      "   f434694..024d8b9  master -> master\n"
     ]
    }
   ],
   "source": [
    "!cd ../d2cl;d2lbook deploy html"
   ]
  },
  {
   "cell_type": "markdown",
   "metadata": {},
   "source": [
    "https://github.com/aieye-top/d2cl/commit/024d8b955302dbf65008ad0dd084d6fee3145384\n",
    "还是失败。。"
   ]
  },
  {
   "cell_type": "code",
   "execution_count": 21,
   "metadata": {},
   "outputs": [
    {
     "name": "stdout",
     "output_type": "stream",
     "text": [
      "Overwriting ../d2cl/index.md\n"
     ]
    }
   ],
   "source": [
    "%%writefile ../d2cl/index.md\n",
    "# Deploying Demo for d2cl\n",
    "\n",
    "This is a demo to deploy on Github.\n",
    "\n",
    "````toc\n",
    ":maxdepth: 1\n",
    "\n",
    "get_started\n",
    "````\n",
    "\n",
    "```toc\n",
    ":maxdepth: 2\n",
    ":numbered:\n",
    "        \n",
    "chapter_introduction/index\n",
    "\n",
    "```"
   ]
  },
  {
   "cell_type": "code",
   "execution_count": 22,
   "metadata": {},
   "outputs": [
    {
     "name": "stdout",
     "output_type": "stream",
     "text": [
      "[d2lbook:config.py:L12] INFO   Load configure from config.ini\n",
      "[d2lbook:build.py:L131] INFO   2 notebooks are outdated\n",
      "[d2lbook:build.py:L133] INFO   [1] ./index.md\n",
      "[d2lbook:build.py:L133] INFO   [2] ./_build/github_deploy-git/README.md\n",
      "[d2lbook:build.py:L138] INFO   [1/2, 00:00:00] Evaluating ./index.md, save as _build/eval/index.ipynb\n",
      "[d2lbook:execute.py:L404] INFO   Executing notebook with kernel: python\n",
      "[d2lbook:build.py:L145] INFO   Finished in 00:00:02\n",
      "[d2lbook:build.py:L138] INFO   [2/2, 00:00:02] Evaluating ./_build/github_deploy-git/README.md, save as _build/eval/_build/github_deploy-git/README.ipynb\n",
      "[d2lbook:execute.py:L404] INFO   Executing notebook with kernel: python\n",
      "[d2lbook:build.py:L145] INFO   Finished in 00:00:02\n",
      "[d2lbook:build.py:L49] INFO   === Finished \"d2lbook build eval\" in 00:00:04\n",
      "[d2lbook:build.py:L247] INFO   2 rst files are outdated\n",
      "[d2lbook:build.py:L249] INFO   Convert _build/eval/index.ipynb to _build/rst/index.rst\n",
      "[d2lbook:build.py:L249] INFO   Convert _build/eval/_build/github_deploy-git/README.ipynb to _build/rst/_build/github_deploy-git/README.rst\n",
      "[d2lbook:build.py:L49] INFO   === Finished \"d2lbook build rst\" in 00:00:05\n",
      "[d2lbook:build.py:L49] INFO   === Finished \"d2lbook build ipynb\" in 00:00:00\n",
      "[d2lbook:build.py:L49] INFO   === Finished \"d2lbook build colab\" in 00:00:00\n",
      "[d2lbook:build.py:L49] INFO   === Finished \"d2lbook build sagemaker\" in 00:00:00\n",
      "\u001b[01mRunning Sphinx v3.4.1\u001b[39;49;00m\n",
      "/root/d2cl/d2cl/_build/rst/conf.py:104: RemovedInSphinx40Warning: The app.add_javascript() is deprecated. Please use app.add_js_file() instead.\n",
      "  app.add_javascript('d2l.js')\n",
      "/root/d2cl/d2cl/_build/rst/conf.py:105: RemovedInSphinx40Warning: The app.add_stylesheet() is deprecated. Please use app.add_css_file() instead.\n",
      "  app.add_stylesheet('d2l.css')\n",
      "\u001b[01mloading pickled environment... \u001b[39;49;00mdone\n",
      "\u001b[01mbuilding [mo]: \u001b[39;49;00mtargets for 0 po files that are out of date\n",
      "\u001b[01mbuilding [html]: \u001b[39;49;00mtargets for 1 source files that are out of date\n",
      "\u001b[01mupdating environment: \u001b[39;49;00m0 added, 1 changed, 0 removed\n",
      "\u001b[01mreading sources... \u001b[39;49;00m[100%] \u001b[35mindex\u001b[39;49;00m                                                 \n",
      "\u001b[01mlooking for now-outdated files... \u001b[39;49;00mnone found\n",
      "\u001b[01mpickling environment... \u001b[39;49;00mdone\n",
      "\u001b[01mchecking consistency... \u001b[39;49;00mdone\n",
      "\u001b[01mpreparing documents... \u001b[39;49;00mdone\n",
      "\u001b[01mwaiting for workers...\u001b[39;49;00m\n",
      "\u001b[01mgenerating indices... \u001b[39;49;00mgenindex done\n",
      "\u001b[01mwriting additional pages... \u001b[39;49;00msearch done\n",
      "\u001b[01mcopying static files... \u001b[39;49;00mdone\n",
      "\u001b[01mcopying extra files... \u001b[39;49;00mdone\n",
      "\u001b[01mdumping search index in English (code: en)... \u001b[39;49;00mdone\n",
      "\u001b[01mdumping object inventory... \u001b[39;49;00mdone\n",
      "\u001b[01mbuild succeeded.\u001b[39;49;00m\n",
      "\n",
      "The HTML pages are in _build/html.\n",
      "[d2lbook:build.py:L49] INFO   === Finished \"d2lbook build html\" in 00:00:07\n"
     ]
    }
   ],
   "source": [
    "!cd ../d2cl;d2lbook build html"
   ]
  },
  {
   "cell_type": "code",
   "execution_count": 23,
   "metadata": {},
   "outputs": [
    {
     "name": "stdout",
     "output_type": "stream",
     "text": [
      "[d2lbook:config.py:L12] INFO   Load configure from config.ini\n",
      "Cloning into '/root/d2cl/d2cl/_build/github_deploy-git'...\n",
      "remote: Enumerating objects: 424, done.\u001b[K\n",
      "remote: Counting objects: 100% (424/424), done.\u001b[K\n",
      "remote: Compressing objects: 100% (102/102), done.\u001b[K\n",
      "remote: Total 424 (delta 326), reused 403 (delta 309), pack-reused 0\u001b[K\n",
      "Receiving objects: 100% (424/424), 2.56 MiB | 0 bytes/s, done.\n",
      "Resolving deltas: 100% (326/326), done.\n",
      "Everything up-to-date\n"
     ]
    }
   ],
   "source": [
    "!cd ../d2cl;d2lbook deploy html"
   ]
  },
  {
   "cell_type": "markdown",
   "metadata": {},
   "source": [
    "docs?问题"
   ]
  },
  {
   "cell_type": "code",
   "execution_count": 24,
   "metadata": {},
   "outputs": [
    {
     "name": "stdout",
     "output_type": "stream",
     "text": [
      "[d2lbook:config.py:L12] INFO   Load configure from config.ini\n",
      "[d2lbook:build.py:L131] INFO   1 notebooks are outdated\n",
      "[d2lbook:build.py:L133] INFO   [1] ./_build/github_deploy-git/README.md\n",
      "[d2lbook:build.py:L138] INFO   [1/1, 00:00:00] Evaluating ./_build/github_deploy-git/README.md, save as _build/eval/_build/github_deploy-git/README.ipynb\n",
      "[d2lbook:execute.py:L404] INFO   Executing notebook with kernel: python\n",
      "[d2lbook:build.py:L145] INFO   Finished in 00:00:02\n",
      "[d2lbook:build.py:L49] INFO   === Finished \"d2lbook build eval\" in 00:00:02\n",
      "[d2lbook:build.py:L247] INFO   1 rst files are outdated\n",
      "[d2lbook:build.py:L249] INFO   Convert _build/eval/_build/github_deploy-git/README.ipynb to _build/rst/_build/github_deploy-git/README.rst\n",
      "[d2lbook:build.py:L49] INFO   === Finished \"d2lbook build rst\" in 00:00:03\n",
      "[d2lbook:build.py:L49] INFO   === Finished \"d2lbook build ipynb\" in 00:00:00\n",
      "[d2lbook:build.py:L49] INFO   === Finished \"d2lbook build colab\" in 00:00:00\n",
      "[d2lbook:build.py:L49] INFO   === Finished \"d2lbook build sagemaker\" in 00:00:00\n",
      "\u001b[01mRunning Sphinx v3.4.1\u001b[39;49;00m\n",
      "/root/d2cl/d2cl/_build/rst/conf.py:104: RemovedInSphinx40Warning: The app.add_javascript() is deprecated. Please use app.add_js_file() instead.\n",
      "  app.add_javascript('d2l.js')\n",
      "/root/d2cl/d2cl/_build/rst/conf.py:105: RemovedInSphinx40Warning: The app.add_stylesheet() is deprecated. Please use app.add_css_file() instead.\n",
      "  app.add_stylesheet('d2l.css')\n",
      "\u001b[01mloading pickled environment... \u001b[39;49;00mdone\n",
      "\u001b[01mbuilding [mo]: \u001b[39;49;00mtargets for 0 po files that are out of date\n",
      "\u001b[01mbuilding [html]: \u001b[39;49;00mtargets for 0 source files that are out of date\n",
      "\u001b[01mupdating environment: \u001b[39;49;00m0 added, 0 changed, 0 removed\n",
      "\u001b[01mlooking for now-outdated files... \u001b[39;49;00mnone found\n",
      "\u001b[01mno targets are out of date.\u001b[39;49;00m\n",
      "\u001b[01mbuild succeeded.\u001b[39;49;00m\n",
      "\n",
      "The HTML pages are in _build/html.\n",
      "[d2lbook:build.py:L49] INFO   === Finished \"d2lbook build html\" in 00:00:04\n"
     ]
    }
   ],
   "source": [
    "!cd ../d2cl;d2lbook build html"
   ]
  },
  {
   "cell_type": "code",
   "execution_count": 25,
   "metadata": {},
   "outputs": [
    {
     "name": "stdout",
     "output_type": "stream",
     "text": [
      "[d2lbook:config.py:L12] INFO   Load configure from config.ini\n",
      "Cloning into '/root/d2cl/d2cl/_build/github_deploy-git'...\n",
      "remote: Enumerating objects: 424, done.\u001b[K\n",
      "remote: Counting objects: 100% (424/424), done.\u001b[K\n",
      "remote: Compressing objects: 100% (102/102), done.\u001b[K\n",
      "remote: Total 424 (delta 326), reused 403 (delta 309), pack-reused 0\u001b[K\n",
      "Receiving objects: 100% (424/424), 2.56 MiB | 4.32 MiB/s, done.\n",
      "Resolving deltas: 100% (326/326), done.\n",
      "Everything up-to-date\n"
     ]
    }
   ],
   "source": [
    "!cd ../d2cl;d2lbook deploy html"
   ]
  },
  {
   "cell_type": "markdown",
   "metadata": {},
   "source": [
    "确实！然后去删了ch1"
   ]
  }
 ],
 "metadata": {
  "kernelspec": {
   "display_name": "Python 3",
   "language": "python",
   "name": "python3"
  },
  "language_info": {
   "codemirror_mode": {
    "name": "ipython",
    "version": 3
   },
   "file_extension": ".py",
   "mimetype": "text/x-python",
   "name": "python",
   "nbconvert_exporter": "python",
   "pygments_lexer": "ipython3",
   "version": "3.8.5"
  }
 },
 "nbformat": 4,
 "nbformat_minor": 4
}
