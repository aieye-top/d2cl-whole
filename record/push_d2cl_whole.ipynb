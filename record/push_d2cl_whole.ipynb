{
 "cells": [
  {
   "cell_type": "code",
   "execution_count": 1,
   "metadata": {},
   "outputs": [
    {
     "name": "stdout",
     "output_type": "stream",
     "text": [
      "/root/d2cl/d2cl\n",
      "On branch main\n",
      "Your branch is up-to-date with 'origin/main'.\n",
      "Untracked files:\n",
      "\t\u001b[31m../record/.ipynb_checkpoints/add_github_icon-checkpoint.ipynb\u001b[m\n",
      "\t\u001b[31m../record/.ipynb_checkpoints/build_deploy-checkpoint.ipynb\u001b[m\n",
      "\t\u001b[31m../record/.ipynb_checkpoints/create_mobilenet.md-checkpoint.ipynb\u001b[m\n",
      "\t\u001b[31m../record/.ipynb_checkpoints/pull_d2cl_whole-checkpoint.ipynb\u001b[m\n",
      "\t\u001b[31m../record/.ipynb_checkpoints/push_d2cl_whole-checkpoint.ipynb\u001b[m\n",
      "\t\u001b[31m../record/add_github_icon.ipynb\u001b[m\n",
      "\t\u001b[31m../record/build_deploy.ipynb\u001b[m\n",
      "\t\u001b[31m../record/create_mobilenet.md.ipynb\u001b[m\n",
      "\t\u001b[31m../record/pull_d2cl_whole.ipynb\u001b[m\n",
      "\t\u001b[31m../record/push_d2cl_whole.ipynb\u001b[m\n",
      "\n",
      "nothing added to commit but untracked files present\n",
      "Branch main set up to track remote branch main from origin.\n",
      "Everything up-to-date\n"
     ]
    }
   ],
   "source": [
    "!cd ../d2cl/;pwd;git add .;git commit -m \"push newest\";git push -u origin main"
   ]
  }
 ],
 "metadata": {
  "kernelspec": {
   "display_name": "Python 3",
   "language": "python",
   "name": "python3"
  },
  "language_info": {
   "codemirror_mode": {
    "name": "ipython",
    "version": 3
   },
   "file_extension": ".py",
   "mimetype": "text/x-python",
   "name": "python",
   "nbconvert_exporter": "python",
   "pygments_lexer": "ipython3",
   "version": "3.8.5"
  }
 },
 "nbformat": 4,
 "nbformat_minor": 4
}
