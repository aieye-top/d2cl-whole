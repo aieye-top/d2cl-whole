{
 "cells": [
  {
   "cell_type": "code",
   "execution_count": 1,
   "metadata": {},
   "outputs": [
    {
     "name": "stdout",
     "output_type": "stream",
     "text": [
      "/root/d2cl/d2cl\r\n"
     ]
    }
   ],
   "source": [
    "!cd ../d2cl/;pwd"
   ]
  },
  {
   "cell_type": "code",
   "execution_count": 2,
   "metadata": {},
   "outputs": [
    {
     "name": "stdout",
     "output_type": "stream",
     "text": [
      "Overwriting ../d2cl/index.md\n"
     ]
    }
   ],
   "source": [
    "%%writefile ../d2cl/index.md\n",
    "# Deploying Demo for d2cl\n",
    "\n",
    "This is a demo to deploy on Github.\n",
    "\n",
    "````toc\n",
    ":maxdepth: 1\n",
    "\n",
    "get_started\n",
    "````\n",
    "\n",
    "```toc\n",
    ":maxdepth: 2\n",
    ":numbered:\n",
    "        \n",
    "chapter_introduction/index\n",
    "chapter_lightweight/index\n",
    "\n",
    "```"
   ]
  },
  {
   "cell_type": "code",
   "execution_count": 3,
   "metadata": {},
   "outputs": [
    {
     "name": "stdout",
     "output_type": "stream",
     "text": [
      "Writing ../d2cl/chapter_lightweight/index.md\n"
     ]
    },
    {
     "ename": "FileNotFoundError",
     "evalue": "[Errno 2] No such file or directory: '../d2cl/chapter_lightweight/index.md'",
     "output_type": "error",
     "traceback": [
      "\u001b[0;31m---------------------------------------------------------------------------\u001b[0m",
      "\u001b[0;31mFileNotFoundError\u001b[0m                         Traceback (most recent call last)",
      "\u001b[0;32m<ipython-input-3-fc4ab749b637>\u001b[0m in \u001b[0;36m<module>\u001b[0;34m\u001b[0m\n\u001b[0;32m----> 1\u001b[0;31m \u001b[0mget_ipython\u001b[0m\u001b[0;34m(\u001b[0m\u001b[0;34m)\u001b[0m\u001b[0;34m.\u001b[0m\u001b[0mrun_cell_magic\u001b[0m\u001b[0;34m(\u001b[0m\u001b[0;34m'writefile'\u001b[0m\u001b[0;34m,\u001b[0m \u001b[0;34m'../d2cl/chapter_lightweight/index.md'\u001b[0m\u001b[0;34m,\u001b[0m \u001b[0;34m'\\n# Introduction\\n:label:`chap_lightweight`\\n'\u001b[0m\u001b[0;34m)\u001b[0m\u001b[0;34m\u001b[0m\u001b[0;34m\u001b[0m\u001b[0m\n\u001b[0m",
      "\u001b[0;32m~/miniconda/lib/python3.8/site-packages/IPython/core/interactiveshell.py\u001b[0m in \u001b[0;36mrun_cell_magic\u001b[0;34m(self, magic_name, line, cell)\u001b[0m\n\u001b[1;32m   2380\u001b[0m             \u001b[0;32mwith\u001b[0m \u001b[0mself\u001b[0m\u001b[0;34m.\u001b[0m\u001b[0mbuiltin_trap\u001b[0m\u001b[0;34m:\u001b[0m\u001b[0;34m\u001b[0m\u001b[0;34m\u001b[0m\u001b[0m\n\u001b[1;32m   2381\u001b[0m                 \u001b[0margs\u001b[0m \u001b[0;34m=\u001b[0m \u001b[0;34m(\u001b[0m\u001b[0mmagic_arg_s\u001b[0m\u001b[0;34m,\u001b[0m \u001b[0mcell\u001b[0m\u001b[0;34m)\u001b[0m\u001b[0;34m\u001b[0m\u001b[0;34m\u001b[0m\u001b[0m\n\u001b[0;32m-> 2382\u001b[0;31m                 \u001b[0mresult\u001b[0m \u001b[0;34m=\u001b[0m \u001b[0mfn\u001b[0m\u001b[0;34m(\u001b[0m\u001b[0;34m*\u001b[0m\u001b[0margs\u001b[0m\u001b[0;34m,\u001b[0m \u001b[0;34m**\u001b[0m\u001b[0mkwargs\u001b[0m\u001b[0;34m)\u001b[0m\u001b[0;34m\u001b[0m\u001b[0;34m\u001b[0m\u001b[0m\n\u001b[0m\u001b[1;32m   2383\u001b[0m             \u001b[0;32mreturn\u001b[0m \u001b[0mresult\u001b[0m\u001b[0;34m\u001b[0m\u001b[0;34m\u001b[0m\u001b[0m\n\u001b[1;32m   2384\u001b[0m \u001b[0;34m\u001b[0m\u001b[0m\n",
      "\u001b[0;32m<decorator-gen-98>\u001b[0m in \u001b[0;36mwritefile\u001b[0;34m(self, line, cell)\u001b[0m\n",
      "\u001b[0;32m~/miniconda/lib/python3.8/site-packages/IPython/core/magic.py\u001b[0m in \u001b[0;36m<lambda>\u001b[0;34m(f, *a, **k)\u001b[0m\n\u001b[1;32m    185\u001b[0m     \u001b[0;31m# but it's overkill for just that one bit of state.\u001b[0m\u001b[0;34m\u001b[0m\u001b[0;34m\u001b[0m\u001b[0;34m\u001b[0m\u001b[0m\n\u001b[1;32m    186\u001b[0m     \u001b[0;32mdef\u001b[0m \u001b[0mmagic_deco\u001b[0m\u001b[0;34m(\u001b[0m\u001b[0marg\u001b[0m\u001b[0;34m)\u001b[0m\u001b[0;34m:\u001b[0m\u001b[0;34m\u001b[0m\u001b[0;34m\u001b[0m\u001b[0m\n\u001b[0;32m--> 187\u001b[0;31m         \u001b[0mcall\u001b[0m \u001b[0;34m=\u001b[0m \u001b[0;32mlambda\u001b[0m \u001b[0mf\u001b[0m\u001b[0;34m,\u001b[0m \u001b[0;34m*\u001b[0m\u001b[0ma\u001b[0m\u001b[0;34m,\u001b[0m \u001b[0;34m**\u001b[0m\u001b[0mk\u001b[0m\u001b[0;34m:\u001b[0m \u001b[0mf\u001b[0m\u001b[0;34m(\u001b[0m\u001b[0;34m*\u001b[0m\u001b[0ma\u001b[0m\u001b[0;34m,\u001b[0m \u001b[0;34m**\u001b[0m\u001b[0mk\u001b[0m\u001b[0;34m)\u001b[0m\u001b[0;34m\u001b[0m\u001b[0;34m\u001b[0m\u001b[0m\n\u001b[0m\u001b[1;32m    188\u001b[0m \u001b[0;34m\u001b[0m\u001b[0m\n\u001b[1;32m    189\u001b[0m         \u001b[0;32mif\u001b[0m \u001b[0mcallable\u001b[0m\u001b[0;34m(\u001b[0m\u001b[0marg\u001b[0m\u001b[0;34m)\u001b[0m\u001b[0;34m:\u001b[0m\u001b[0;34m\u001b[0m\u001b[0;34m\u001b[0m\u001b[0m\n",
      "\u001b[0;32m~/miniconda/lib/python3.8/site-packages/IPython/core/magics/osm.py\u001b[0m in \u001b[0;36mwritefile\u001b[0;34m(self, line, cell)\u001b[0m\n\u001b[1;32m    854\u001b[0m \u001b[0;34m\u001b[0m\u001b[0m\n\u001b[1;32m    855\u001b[0m         \u001b[0mmode\u001b[0m \u001b[0;34m=\u001b[0m \u001b[0;34m'a'\u001b[0m \u001b[0;32mif\u001b[0m \u001b[0margs\u001b[0m\u001b[0;34m.\u001b[0m\u001b[0mappend\u001b[0m \u001b[0;32melse\u001b[0m \u001b[0;34m'w'\u001b[0m\u001b[0;34m\u001b[0m\u001b[0;34m\u001b[0m\u001b[0m\n\u001b[0;32m--> 856\u001b[0;31m         \u001b[0;32mwith\u001b[0m \u001b[0mio\u001b[0m\u001b[0;34m.\u001b[0m\u001b[0mopen\u001b[0m\u001b[0;34m(\u001b[0m\u001b[0mfilename\u001b[0m\u001b[0;34m,\u001b[0m \u001b[0mmode\u001b[0m\u001b[0;34m,\u001b[0m \u001b[0mencoding\u001b[0m\u001b[0;34m=\u001b[0m\u001b[0;34m'utf-8'\u001b[0m\u001b[0;34m)\u001b[0m \u001b[0;32mas\u001b[0m \u001b[0mf\u001b[0m\u001b[0;34m:\u001b[0m\u001b[0;34m\u001b[0m\u001b[0;34m\u001b[0m\u001b[0m\n\u001b[0m\u001b[1;32m    857\u001b[0m             \u001b[0mf\u001b[0m\u001b[0;34m.\u001b[0m\u001b[0mwrite\u001b[0m\u001b[0;34m(\u001b[0m\u001b[0mcell\u001b[0m\u001b[0;34m)\u001b[0m\u001b[0;34m\u001b[0m\u001b[0;34m\u001b[0m\u001b[0m\n",
      "\u001b[0;31mFileNotFoundError\u001b[0m: [Errno 2] No such file or directory: '../d2cl/chapter_lightweight/index.md'"
     ]
    }
   ],
   "source": [
    "%%writefile ../d2cl/chapter_lightweight/index.md\n",
    "\n",
    "# Introduction\n",
    ":label:`chap_lightweight`"
   ]
  },
  {
   "cell_type": "code",
   "execution_count": 4,
   "metadata": {},
   "outputs": [
    {
     "name": "stdout",
     "output_type": "stream",
     "text": [
      "/root/d2cl/d2cl\r\n"
     ]
    }
   ],
   "source": [
    "!cd ../d2cl/;pwd;mkdir chapter_lightweight"
   ]
  },
  {
   "cell_type": "code",
   "execution_count": 5,
   "metadata": {},
   "outputs": [
    {
     "name": "stdout",
     "output_type": "stream",
     "text": [
      "Writing ../d2cl/chapter_lightweight/index.md\n"
     ]
    }
   ],
   "source": [
    "%%writefile ../d2cl/chapter_lightweight/index.md\n",
    "\n",
    "# Introduction\n",
    ":label:`chap_lightweight`"
   ]
  },
  {
   "cell_type": "code",
   "execution_count": 6,
   "metadata": {},
   "outputs": [
    {
     "name": "stdout",
     "output_type": "stream",
     "text": [
      "[d2lbook:config.py:L12] INFO   Load configure from config.ini\n",
      "[d2lbook:build.py:L131] INFO   3 notebooks are outdated\n",
      "[d2lbook:build.py:L133] INFO   [1] ./chapter_lightweight/index.md\n",
      "[d2lbook:build.py:L133] INFO   [2] ./index.md\n",
      "[d2lbook:build.py:L133] INFO   [3] ./_build/github_deploy-git/README.md\n",
      "[d2lbook:build.py:L138] INFO   [1/3, 00:00:00] Evaluating ./chapter_lightweight/index.md, save as _build/eval/chapter_lightweight/index.ipynb\n",
      "[d2lbook:execute.py:L404] INFO   Executing notebook with kernel: python\n",
      "[d2lbook:build.py:L145] INFO   Finished in 00:00:03\n",
      "[d2lbook:build.py:L138] INFO   [2/3, 00:00:03] Evaluating ./index.md, save as _build/eval/index.ipynb\n",
      "[d2lbook:execute.py:L404] INFO   Executing notebook with kernel: python\n",
      "[d2lbook:build.py:L145] INFO   Finished in 00:00:01\n",
      "[d2lbook:build.py:L138] INFO   [3/3, 00:00:05] Evaluating ./_build/github_deploy-git/README.md, save as _build/eval/_build/github_deploy-git/README.ipynb\n",
      "[d2lbook:execute.py:L404] INFO   Executing notebook with kernel: python\n",
      "[d2lbook:build.py:L145] INFO   Finished in 00:00:02\n",
      "[d2lbook:build.py:L49] INFO   === Finished \"d2lbook build eval\" in 00:00:07\n",
      "[d2lbook:build.py:L247] INFO   3 rst files are outdated\n",
      "[d2lbook:build.py:L249] INFO   Convert _build/eval/_build/github_deploy-git/README.ipynb to _build/rst/_build/github_deploy-git/README.rst\n",
      "[d2lbook:build.py:L249] INFO   Convert _build/eval/index.ipynb to _build/rst/index.rst\n",
      "[d2lbook:build.py:L249] INFO   Convert _build/eval/chapter_lightweight/index.ipynb to _build/rst/chapter_lightweight/index.rst\n",
      "[d2lbook:build.py:L49] INFO   === Finished \"d2lbook build rst\" in 00:00:08\n",
      "[d2lbook:build.py:L49] INFO   === Finished \"d2lbook build ipynb\" in 00:00:00\n",
      "[d2lbook:build.py:L49] INFO   === Finished \"d2lbook build colab\" in 00:00:00\n",
      "[d2lbook:build.py:L49] INFO   === Finished \"d2lbook build sagemaker\" in 00:00:00\n",
      "\u001b[01mRunning Sphinx v3.4.1\u001b[39;49;00m\n",
      "/root/d2cl/d2cl/_build/rst/conf.py:104: RemovedInSphinx40Warning: The app.add_javascript() is deprecated. Please use app.add_js_file() instead.\n",
      "  app.add_javascript('d2l.js')\n",
      "/root/d2cl/d2cl/_build/rst/conf.py:105: RemovedInSphinx40Warning: The app.add_stylesheet() is deprecated. Please use app.add_css_file() instead.\n",
      "  app.add_stylesheet('d2l.css')\n",
      "\u001b[01mloading pickled environment... \u001b[39;49;00mdone\n",
      "\u001b[01mbuilding [mo]: \u001b[39;49;00mtargets for 0 po files that are out of date\n",
      "\u001b[01mbuilding [html]: \u001b[39;49;00mtargets for 1 source files that are out of date\n",
      "\u001b[01mupdating environment: \u001b[39;49;00m1 added, 1 changed, 0 removed\n",
      "\u001b[01mreading sources... \u001b[39;49;00m[100%] \u001b[35mindex\u001b[39;49;00m                                                 \n",
      "\u001b[01mlooking for now-outdated files... \u001b[39;49;00mnone found\n",
      "\u001b[01mpickling environment... \u001b[39;49;00mdone\n",
      "\u001b[01mchecking consistency... \u001b[39;49;00mdone\n",
      "\u001b[01mpreparing documents... \u001b[39;49;00mdone\n",
      "\u001b[01mwriting output... \u001b[39;49;00m[100%] \u001b[32mindex\u001b[39;49;00m                                                  \n",
      "\u001b[01mwaiting for workers...\u001b[39;49;00m\n",
      "\u001b[01mgenerating indices... \u001b[39;49;00mgenindex done\n",
      "\u001b[01mwriting additional pages... \u001b[39;49;00msearch done\n",
      "\u001b[01mcopying static files... \u001b[39;49;00mdone\n",
      "\u001b[01mcopying extra files... \u001b[39;49;00mdone\n",
      "\u001b[01mdumping search index in English (code: en)... \u001b[39;49;00mdone\n",
      "\u001b[01mdumping object inventory... \u001b[39;49;00mdone\n",
      "\u001b[01mbuild succeeded.\u001b[39;49;00m\n",
      "\n",
      "The HTML pages are in _build/html.\n",
      "[d2lbook:build.py:L49] INFO   === Finished \"d2lbook build html\" in 00:00:10\n"
     ]
    }
   ],
   "source": [
    "!cd ../d2cl;d2lbook build html"
   ]
  },
  {
   "cell_type": "code",
   "execution_count": 7,
   "metadata": {},
   "outputs": [
    {
     "name": "stdout",
     "output_type": "stream",
     "text": [
      "[d2lbook:config.py:L12] INFO   Load configure from config.ini\n",
      "Cloning into '/root/d2cl/d2cl/_build/github_deploy-git'...\n",
      "remote: Enumerating objects: 426, done.\u001b[K\n",
      "remote: Counting objects: 100% (426/426), done.\u001b[K\n",
      "remote: Compressing objects: 100% (103/103), done.\u001b[K\n",
      "remote: Total 426 (delta 327), reused 405 (delta 310), pack-reused 0\u001b[K\n",
      "Receiving objects: 100% (426/426), 2.56 MiB | 0 bytes/s, done.\n",
      "Resolving deltas: 100% (327/327), done.\n",
      "[master 61f5150] Version 0.0.1\n",
      " 9 files changed, 342 insertions(+), 1 deletion(-)\n",
      " create mode 100644 _sources/chapter_lightweight/index.rst.txt\n",
      " create mode 100644 ch1/index.html\n",
      " create mode 100644 chapter_lightweight/index.html\n",
      " rewrite searchindex.js (100%)\n",
      "Counting objects: 15, done.\n",
      "Delta compression using up to 2 threads.\n",
      "Compressing objects: 100% (12/12), done.\n",
      "Writing objects: 100% (15/15), 2.66 KiB | 0 bytes/s, done.\n",
      "Total 15 (delta 7), reused 1 (delta 0)\n",
      "remote: Resolving deltas: 100% (7/7), completed with 5 local objects.\u001b[K\n",
      "To github.com:aieye-top/d2cl.git\n",
      "   3d1a2cf..61f5150  master -> master\n"
     ]
    }
   ],
   "source": [
    "!cd ../d2cl;d2lbook deploy html"
   ]
  },
  {
   "cell_type": "code",
   "execution_count": 8,
   "metadata": {},
   "outputs": [
    {
     "name": "stdout",
     "output_type": "stream",
     "text": [
      "Overwriting ../d2cl/chapter_lightweight/index.md\n"
     ]
    }
   ],
   "source": [
    "%%writefile ../d2cl/chapter_lightweight/index.md\n",
    "\n",
    "# Introduction\n",
    ":label:`chap_lightweight`"
   ]
  },
  {
   "cell_type": "code",
   "execution_count": 9,
   "metadata": {},
   "outputs": [
    {
     "name": "stdout",
     "output_type": "stream",
     "text": [
      "[d2lbook:config.py:L12] INFO   Load configure from config.ini\n",
      "[d2lbook:build.py:L131] INFO   2 notebooks are outdated\n",
      "[d2lbook:build.py:L133] INFO   [1] ./chapter_lightweight/index.md\n",
      "[d2lbook:build.py:L133] INFO   [2] ./_build/github_deploy-git/README.md\n",
      "[d2lbook:build.py:L138] INFO   [1/2, 00:00:00] Evaluating ./chapter_lightweight/index.md, save as _build/eval/chapter_lightweight/index.ipynb\n",
      "[d2lbook:execute.py:L404] INFO   Executing notebook with kernel: python\n",
      "[d2lbook:build.py:L145] INFO   Finished in 00:00:03\n",
      "[d2lbook:build.py:L138] INFO   [2/2, 00:00:03] Evaluating ./_build/github_deploy-git/README.md, save as _build/eval/_build/github_deploy-git/README.ipynb\n",
      "[d2lbook:execute.py:L404] INFO   Executing notebook with kernel: python\n",
      "[d2lbook:build.py:L145] INFO   Finished in 00:00:01\n",
      "[d2lbook:build.py:L49] INFO   === Finished \"d2lbook build eval\" in 00:00:05\n",
      "[d2lbook:build.py:L247] INFO   2 rst files are outdated\n",
      "[d2lbook:build.py:L249] INFO   Convert _build/eval/chapter_lightweight/index.ipynb to _build/rst/chapter_lightweight/index.rst\n",
      "[d2lbook:build.py:L249] INFO   Convert _build/eval/_build/github_deploy-git/README.ipynb to _build/rst/_build/github_deploy-git/README.rst\n",
      "[d2lbook:build.py:L49] INFO   === Finished \"d2lbook build rst\" in 00:00:05\n",
      "[d2lbook:build.py:L49] INFO   === Finished \"d2lbook build ipynb\" in 00:00:00\n",
      "[d2lbook:build.py:L49] INFO   === Finished \"d2lbook build colab\" in 00:00:00\n",
      "[d2lbook:build.py:L49] INFO   === Finished \"d2lbook build sagemaker\" in 00:00:00\n",
      "\u001b[01mRunning Sphinx v3.4.1\u001b[39;49;00m\n",
      "/root/d2cl/d2cl/_build/rst/conf.py:104: RemovedInSphinx40Warning: The app.add_javascript() is deprecated. Please use app.add_js_file() instead.\n",
      "  app.add_javascript('d2l.js')\n",
      "/root/d2cl/d2cl/_build/rst/conf.py:105: RemovedInSphinx40Warning: The app.add_stylesheet() is deprecated. Please use app.add_css_file() instead.\n",
      "  app.add_stylesheet('d2l.css')\n",
      "\u001b[01mloading pickled environment... \u001b[39;49;00mdone\n",
      "\u001b[01mbuilding [mo]: \u001b[39;49;00mtargets for 0 po files that are out of date\n",
      "\u001b[01mbuilding [html]: \u001b[39;49;00mtargets for 1 source files that are out of date\n",
      "\u001b[01mupdating environment: \u001b[39;49;00m0 added, 1 changed, 0 removed\n",
      "\u001b[01mreading sources... \u001b[39;49;00m[100%] \u001b[35mchapter_lightweight/index\u001b[39;49;00m                             \n",
      "\u001b[01mlooking for now-outdated files... \u001b[39;49;00mnone found\n",
      "\u001b[01mpickling environment... \u001b[39;49;00mdone\n",
      "\u001b[01mchecking consistency... \u001b[39;49;00mdone\n",
      "\u001b[01mpreparing documents... \u001b[39;49;00mdone\n",
      "\u001b[01mwriting output... \u001b[39;49;00m[100%] \u001b[32mindex\u001b[39;49;00m                                                  \n",
      "\u001b[01mwaiting for workers...\u001b[39;49;00m\n",
      "\u001b[01mgenerating indices... \u001b[39;49;00mgenindex done\n",
      "\u001b[01mwriting additional pages... \u001b[39;49;00msearch done\n",
      "\u001b[01mcopying static files... \u001b[39;49;00mdone\n",
      "\u001b[01mcopying extra files... \u001b[39;49;00mdone\n",
      "\u001b[01mdumping search index in English (code: en)... \u001b[39;49;00mdone\n",
      "\u001b[01mdumping object inventory... \u001b[39;49;00mdone\n",
      "\u001b[01mbuild succeeded.\u001b[39;49;00m\n",
      "\n",
      "The HTML pages are in _build/html.\n",
      "[d2lbook:build.py:L49] INFO   === Finished \"d2lbook build html\" in 00:00:08\n"
     ]
    }
   ],
   "source": [
    "!cd ../d2cl;d2lbook build html"
   ]
  },
  {
   "cell_type": "code",
   "execution_count": 10,
   "metadata": {},
   "outputs": [
    {
     "name": "stdout",
     "output_type": "stream",
     "text": [
      "[d2lbook:config.py:L12] INFO   Load configure from config.ini\n",
      "Cloning into '/root/d2cl/d2cl/_build/github_deploy-git'...\n",
      "remote: Enumerating objects: 441, done.\u001b[K\n",
      "remote: Counting objects: 100% (441/441), done.\u001b[K\n",
      "remote: Compressing objects: 100% (109/109), done.\u001b[K\n",
      "remote: Total 441 (delta 335), reused 419 (delta 317), pack-reused 0\u001b[K\n",
      "Receiving objects: 100% (441/441), 2.56 MiB | 0 bytes/s, done.\n",
      "Resolving deltas: 100% (335/335), done.\n",
      "[master 70cbec0] Version 0.0.1\n",
      " 1 file changed, 158 insertions(+)\n",
      " create mode 100644 ch1/index.html\n",
      "Counting objects: 4, done.\n",
      "Delta compression using up to 2 threads.\n",
      "Compressing objects: 100% (3/3), done.\n",
      "Writing objects: 100% (4/4), 1.74 KiB | 0 bytes/s, done.\n",
      "Total 4 (delta 1), reused 1 (delta 0)\n",
      "remote: Resolving deltas: 100% (1/1), completed with 1 local object.\u001b[K\n",
      "To github.com:aieye-top/d2cl.git\n",
      "   5669f15..70cbec0  master -> master\n"
     ]
    }
   ],
   "source": [
    "!cd ../d2cl;d2lbook deploy html"
   ]
  },
  {
   "cell_type": "markdown",
   "metadata": {},
   "source": [
    "还是俩Introduction?"
   ]
  },
  {
   "cell_type": "code",
   "execution_count": 11,
   "metadata": {},
   "outputs": [
    {
     "name": "stdout",
     "output_type": "stream",
     "text": [
      "/root/d2cl\r\n",
      "Initialized empty Git repository in /root/d2cl/.git/\r\n",
      "error: pathspec '-' did not match any file(s) known to git.\r\n",
      "error: pathspec 'm' did not match any file(s) known to git.\r\n",
      "error: pathspec 'first commit' did not match any file(s) known to git.\r\n",
      "error: src refspec main does not match any.\r\n",
      "error: failed to push some refs to 'https://github.com/aieye-top/d2cl-whole.git'\r\n"
     ]
    }
   ],
   "source": [
    "!cd ../;pwd;git init;git commit - m \"first commit\";git remote add origin https://github.com/aieye-top/d2cl-whole.git;git push -u origin main"
   ]
  },
  {
   "cell_type": "code",
   "execution_count": 12,
   "metadata": {},
   "outputs": [
    {
     "name": "stdout",
     "output_type": "stream",
     "text": [
      "/root/d2cl\n",
      "Reinitialized existing Git repository in /root/d2cl/.git/\n",
      "error: pathspec '-' did not match any file(s) known to git.\n",
      "error: pathspec 'm' did not match any file(s) known to git.\n",
      "error: pathspec 'first commit' did not match any file(s) known to git.\n",
      "fatal: remote origin already exists.\n",
      "error: src refspec main does not match any.\n",
      "error: failed to push some refs to 'https://github.com/aieye-top/d2cl-whole.git'\n"
     ]
    }
   ],
   "source": [
    "!cd ../;pwd;git init;git add .;git commit - m \"first commit\";git remote add origin https://github.com/aieye-top/d2cl-whole.git;git push -u origin main"
   ]
  }
 ],
 "metadata": {
  "kernelspec": {
   "display_name": "Python 3",
   "language": "python",
   "name": "python3"
  },
  "language_info": {
   "codemirror_mode": {
    "name": "ipython",
    "version": 3
   },
   "file_extension": ".py",
   "mimetype": "text/x-python",
   "name": "python",
   "nbconvert_exporter": "python",
   "pygments_lexer": "ipython3",
   "version": "3.8.5"
  }
 },
 "nbformat": 4,
 "nbformat_minor": 4
}
